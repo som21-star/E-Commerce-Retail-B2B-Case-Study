{
 "cells": [
  {
   "cell_type": "markdown",
   "id": "206c250b",
   "metadata": {},
   "source": [
    "****E-Commerce & Retail B2B Classification Case Study****"
   ]
  },
  {
   "cell_type": "markdown",
   "id": "094a4dfe",
   "metadata": {},
   "source": [
    "***Problem Statement***\n",
    "\n",
    "Schuster is a multinational retail company dealing in sports goods and accessories. Schuster conducts significant business with hundreds of its vendors, with whom it has credit arrangements. Unfortunately, not all vendors respect credit terms and some of them tend to make payments late. Schuster levies heavy late payment fees, although this procedure is not beneficial to either party in a long-term business relationship. The company has some employees who keep chasing vendors to get the payment on time; this procedure nevertheless also results in non-value-added activities, loss of time and financial impact. Schuster would thus try to understand its customers’ payment behaviour and predict the likelihood of late payments against open invoices."
   ]
  },
  {
   "cell_type": "markdown",
   "id": "88fc1704",
   "metadata": {},
   "source": [
    "***Goal***\n",
    "\n",
    "Schuster would like to better understand the customers’ payment behaviour based on their past payment patterns (customer segmentation).\n",
    "Using historical information, it wants to be able to predict the likelihood of delayed payment against open invoices from its customers.\n",
    "It wants to use this information so that collectors can prioritise their work in following up with customers beforehand to get the payments on time."
   ]
  },
  {
   "cell_type": "markdown",
   "id": "8458a5fc",
   "metadata": {},
   "source": [
    "**Data Understanding**\n",
    "\n",
    "RECEIPT_METHOD\tIn which method payments have been made\n",
    "\n",
    "CUSTOMER_NAME\tName of the customer/vendor\n",
    "\n",
    "CUSTOMER_NUMBER\tCustomer's unique identity number\n",
    "\n",
    "RECEIPT_DOC_NO\tReference number of the payment receipt\n",
    "\n",
    "RECEIPT_DATE\tThe date in which the payment has been made\n",
    "\n",
    "CLASS\tAs the payment against these invoices have already been received so Transaction Class as PMT (short for Payment) assigned\n",
    "\n",
    "CURRENCY_CODE\tCurrency used for the payment\n",
    "\n",
    "Local Amount\tInvoice value in local currency\n",
    "\n",
    "USD Amount\tInvoice Value converted to USD\n",
    "\n",
    "INVOICE_ALLOCATED\tInvoice number that has been allocated to a particular vendor\n",
    "\n",
    "INVOICE_CREATION_DATE\tThe date on which the invoice was created\n",
    "\n",
    "DUE_DATE\tThe date by which the payment was to be made\n",
    "\n",
    "PAYMENT_TERM\tDays given to the vendor/customer for making the payments\n",
    "\n",
    "INVOICE_CLASS\tThree types of Invoice classes - Credit Memo or Credit Note (CM), Debit Memo or Debit Note (DM) or Invoice (INV)\n",
    "\n",
    "INVOICE_CURRENCY_CODE\tCurrency code as per the invoice generated\n",
    "\n",
    "INVOICE_TYPE\tInvoice created for physical goods or services (non-goods)\n",
    "\n",
    "Finally target variable will be derived based on the suggested information \"You need to derive it by checking whether the payment receipt date falls within, or after the due date. By doing so, you can create your binary target variable as 1 or 0.\""
   ]
  },
  {
   "cell_type": "code",
   "execution_count": 1,
   "id": "99ae44f2",
   "metadata": {},
   "outputs": [],
   "source": [
    "# Suppressing Warnings\n",
    "import warnings\n",
    "warnings.filterwarnings('ignore')\n",
    "# Importing Pandas and NumPy\n",
    "import pandas as pd, numpy as np"
   ]
  },
  {
   "cell_type": "code",
   "execution_count": 2,
   "id": "cb8d0eac",
   "metadata": {},
   "outputs": [
    {
     "data": {
      "text/html": [
       "<div>\n",
       "<style scoped>\n",
       "    .dataframe tbody tr th:only-of-type {\n",
       "        vertical-align: middle;\n",
       "    }\n",
       "\n",
       "    .dataframe tbody tr th {\n",
       "        vertical-align: top;\n",
       "    }\n",
       "\n",
       "    .dataframe thead th {\n",
       "        text-align: right;\n",
       "    }\n",
       "</style>\n",
       "<table border=\"1\" class=\"dataframe\">\n",
       "  <thead>\n",
       "    <tr style=\"text-align: right;\">\n",
       "      <th></th>\n",
       "      <th>RECEIPT_METHOD</th>\n",
       "      <th>CUSTOMER_NAME</th>\n",
       "      <th>CUSTOMER_NUMBER</th>\n",
       "      <th>RECEIPT_DOC_NO</th>\n",
       "      <th>RECEIPT_DATE</th>\n",
       "      <th>CLASS</th>\n",
       "      <th>CURRENCY_CODE</th>\n",
       "      <th>Local Amount</th>\n",
       "      <th>USD Amount</th>\n",
       "      <th>INVOICE_ALLOCATED</th>\n",
       "      <th>INVOICE_CREATION_DATE</th>\n",
       "      <th>DUE_DATE</th>\n",
       "      <th>PAYMENT_TERM</th>\n",
       "      <th>INVOICE_CLASS</th>\n",
       "      <th>INVOICE_CURRENCY_CODE</th>\n",
       "      <th>INVOICE_TYPE</th>\n",
       "      <th>AS_OF_DATE</th>\n",
       "      <th>Customer Type</th>\n",
       "    </tr>\n",
       "  </thead>\n",
       "  <tbody>\n",
       "    <tr>\n",
       "      <th>0</th>\n",
       "      <td>WIRE</td>\n",
       "      <td>C EA Corp</td>\n",
       "      <td>37403</td>\n",
       "      <td>1.421000e+10</td>\n",
       "      <td>2021-04-20</td>\n",
       "      <td>PMT</td>\n",
       "      <td>USD</td>\n",
       "      <td>370990.92</td>\n",
       "      <td>101018.63040</td>\n",
       "      <td>14200000001</td>\n",
       "      <td>2020-11-02</td>\n",
       "      <td>2020-12-30</td>\n",
       "      <td>30 Days from EOM</td>\n",
       "      <td>INV</td>\n",
       "      <td>AED</td>\n",
       "      <td>Non Goods</td>\n",
       "      <td>2022-04-04 01:07:00</td>\n",
       "      <td>3rd Party</td>\n",
       "    </tr>\n",
       "    <tr>\n",
       "      <th>1</th>\n",
       "      <td>WIRE</td>\n",
       "      <td>RADW Corp</td>\n",
       "      <td>4003</td>\n",
       "      <td>9.921000e+10</td>\n",
       "      <td>2021-01-31</td>\n",
       "      <td>PMT</td>\n",
       "      <td>SAR</td>\n",
       "      <td>183750.00</td>\n",
       "      <td>48990.21133</td>\n",
       "      <td>99200000043</td>\n",
       "      <td>2020-12-29</td>\n",
       "      <td>2021-01-28</td>\n",
       "      <td>30 Days from Inv Date</td>\n",
       "      <td>INV</td>\n",
       "      <td>SAR</td>\n",
       "      <td>Non Goods</td>\n",
       "      <td>2022-04-04 01:07:00</td>\n",
       "      <td>Related Party</td>\n",
       "    </tr>\n",
       "    <tr>\n",
       "      <th>2</th>\n",
       "      <td>WIRE</td>\n",
       "      <td>RADW Corp</td>\n",
       "      <td>4003</td>\n",
       "      <td>9.921000e+10</td>\n",
       "      <td>2021-01-31</td>\n",
       "      <td>PMT</td>\n",
       "      <td>SAR</td>\n",
       "      <td>157500.00</td>\n",
       "      <td>41991.60971</td>\n",
       "      <td>99210000003</td>\n",
       "      <td>2021-01-30</td>\n",
       "      <td>2021-03-01</td>\n",
       "      <td>30 Days from Inv Date</td>\n",
       "      <td>INV</td>\n",
       "      <td>SAR</td>\n",
       "      <td>Non Goods</td>\n",
       "      <td>2022-04-04 01:07:00</td>\n",
       "      <td>Related Party</td>\n",
       "    </tr>\n",
       "    <tr>\n",
       "      <th>3</th>\n",
       "      <td>WIRE</td>\n",
       "      <td>FARO Corp</td>\n",
       "      <td>1409</td>\n",
       "      <td>9.921000e+10</td>\n",
       "      <td>2021-01-31</td>\n",
       "      <td>PMT</td>\n",
       "      <td>SAR</td>\n",
       "      <td>157500.00</td>\n",
       "      <td>41991.60971</td>\n",
       "      <td>99200000038</td>\n",
       "      <td>2020-12-15</td>\n",
       "      <td>2021-01-14</td>\n",
       "      <td>30 Days from Inv Date</td>\n",
       "      <td>INV</td>\n",
       "      <td>SAR</td>\n",
       "      <td>Non Goods</td>\n",
       "      <td>2022-04-04 01:07:00</td>\n",
       "      <td>Related Party</td>\n",
       "    </tr>\n",
       "    <tr>\n",
       "      <th>4</th>\n",
       "      <td>WIRE</td>\n",
       "      <td>RADW Corp</td>\n",
       "      <td>4003</td>\n",
       "      <td>9.921000e+10</td>\n",
       "      <td>2021-01-31</td>\n",
       "      <td>PMT</td>\n",
       "      <td>SAR</td>\n",
       "      <td>157500.00</td>\n",
       "      <td>41991.60971</td>\n",
       "      <td>99200000039</td>\n",
       "      <td>2020-12-15</td>\n",
       "      <td>2021-01-14</td>\n",
       "      <td>30 Days from Inv Date</td>\n",
       "      <td>INV</td>\n",
       "      <td>SAR</td>\n",
       "      <td>Non Goods</td>\n",
       "      <td>2022-04-04 01:07:00</td>\n",
       "      <td>Related Party</td>\n",
       "    </tr>\n",
       "  </tbody>\n",
       "</table>\n",
       "</div>"
      ],
      "text/plain": [
       "  RECEIPT_METHOD CUSTOMER_NAME  CUSTOMER_NUMBER  RECEIPT_DOC_NO RECEIPT_DATE  \\\n",
       "0           WIRE     C EA Corp            37403    1.421000e+10   2021-04-20   \n",
       "1           WIRE     RADW Corp             4003    9.921000e+10   2021-01-31   \n",
       "2           WIRE     RADW Corp             4003    9.921000e+10   2021-01-31   \n",
       "3           WIRE     FARO Corp             1409    9.921000e+10   2021-01-31   \n",
       "4           WIRE     RADW Corp             4003    9.921000e+10   2021-01-31   \n",
       "\n",
       "  CLASS CURRENCY_CODE  Local Amount    USD Amount INVOICE_ALLOCATED  \\\n",
       "0   PMT           USD     370990.92  101018.63040       14200000001   \n",
       "1   PMT           SAR     183750.00   48990.21133       99200000043   \n",
       "2   PMT           SAR     157500.00   41991.60971       99210000003   \n",
       "3   PMT           SAR     157500.00   41991.60971       99200000038   \n",
       "4   PMT           SAR     157500.00   41991.60971       99200000039   \n",
       "\n",
       "  INVOICE_CREATION_DATE   DUE_DATE           PAYMENT_TERM INVOICE_CLASS  \\\n",
       "0            2020-11-02 2020-12-30       30 Days from EOM           INV   \n",
       "1            2020-12-29 2021-01-28  30 Days from Inv Date           INV   \n",
       "2            2021-01-30 2021-03-01  30 Days from Inv Date           INV   \n",
       "3            2020-12-15 2021-01-14  30 Days from Inv Date           INV   \n",
       "4            2020-12-15 2021-01-14  30 Days from Inv Date           INV   \n",
       "\n",
       "  INVOICE_CURRENCY_CODE INVOICE_TYPE          AS_OF_DATE  Customer Type  \n",
       "0                   AED    Non Goods 2022-04-04 01:07:00      3rd Party  \n",
       "1                   SAR    Non Goods 2022-04-04 01:07:00  Related Party  \n",
       "2                   SAR    Non Goods 2022-04-04 01:07:00  Related Party  \n",
       "3                   SAR    Non Goods 2022-04-04 01:07:00  Related Party  \n",
       "4                   SAR    Non Goods 2022-04-04 01:07:00  Related Party  "
      ]
     },
     "execution_count": 2,
     "metadata": {},
     "output_type": "execute_result"
    }
   ],
   "source": [
    "# Importing Received dataset and looking at the first 5 records\n",
    "train = pd.read_excel(\"G:/M/Domain Oriented Case Study/E-Commerce & Retail B2B Case Study/Received_Payments_Data.xlsx\")\n",
    "train.head()"
   ]
  },
  {
   "cell_type": "markdown",
   "id": "d98305e9",
   "metadata": {},
   "source": [
    "**Summary Statistics and EDA on train data**"
   ]
  },
  {
   "cell_type": "code",
   "execution_count": 5,
   "id": "eadf5cc2",
   "metadata": {},
   "outputs": [
    {
     "name": "stdout",
     "output_type": "stream",
     "text": [
      "minimum invoice value:  0.0\n",
      "maximum invoice value:  10849828.8\n",
      "average invoice value:  531201.3\n"
     ]
    }
   ],
   "source": [
    "##min, max and average value of invoice value in USD\n",
    "print('minimum invoice value: ',train['USD Amount'].min())\n",
    "print('maximum invoice value: ',train['USD Amount'].max())\n",
    "print('average invoice value: ',np.round(train['USD Amount'].mean(),1))"
   ]
  },
  {
   "cell_type": "code",
   "execution_count": 3,
   "id": "87af8e57",
   "metadata": {},
   "outputs": [],
   "source": [
    "import matplotlib.pyplot as plt\n",
    "import seaborn as sns"
   ]
  },
  {
   "cell_type": "code",
   "execution_count": 5,
   "id": "fe017a59",
   "metadata": {},
   "outputs": [],
   "source": [
    "train[['INVOICE_CREATION_DATE','DUE_DATE', 'AS_OF_DATE']] = train[['INVOICE_CREATION_DATE','DUE_DATE', 'AS_OF_DATE']].apply(pd.to_datetime)"
   ]
  },
  {
   "cell_type": "code",
   "execution_count": 6,
   "id": "0f8fe8f9",
   "metadata": {},
   "outputs": [],
   "source": [
    "#0: Delayed\n",
    "#1: On time\n",
    "#creating the target variable\n",
    "train['target'] = np.where(train['INVOICE_CREATION_DATE']>train['DUE_DATE'], 0, 1)"
   ]
  },
  {
   "cell_type": "code",
   "execution_count": 7,
   "id": "0363f206",
   "metadata": {},
   "outputs": [
    {
     "data": {
      "text/plain": [
       "1    90263\n",
       "0     3674\n",
       "Name: target, dtype: int64"
      ]
     },
     "execution_count": 7,
     "metadata": {},
     "output_type": "execute_result"
    }
   ],
   "source": [
    "#counts of unique values\n",
    "train['target'].value_counts()"
   ]
  },
  {
   "cell_type": "code",
   "execution_count": 28,
   "id": "eb24177b",
   "metadata": {},
   "outputs": [
    {
     "name": "stdout",
     "output_type": "stream",
     "text": [
      "Average Invoice value for delayed customers:  248782.34\n"
     ]
    }
   ],
   "source": [
    "#average invoice value for delayed customers\n",
    "print('Average Invoice value for delayed customers: ',np.round(train[train['target']==0]['USD Amount'].mean(),2))"
   ]
  },
  {
   "cell_type": "code",
   "execution_count": 7,
   "id": "790163cc",
   "metadata": {},
   "outputs": [
    {
     "name": "stdout",
     "output_type": "stream",
     "text": [
      "<class 'pandas.core.frame.DataFrame'>\n",
      "RangeIndex: 93937 entries, 0 to 93936\n",
      "Data columns (total 19 columns):\n",
      " #   Column                 Non-Null Count  Dtype         \n",
      "---  ------                 --------------  -----         \n",
      " 0   RECEIPT_METHOD         93937 non-null  object        \n",
      " 1   CUSTOMER_NAME          93937 non-null  object        \n",
      " 2   CUSTOMER_NUMBER        93937 non-null  int64         \n",
      " 3   RECEIPT_DOC_NO         93908 non-null  float64       \n",
      " 4   RECEIPT_DATE           93937 non-null  datetime64[ns]\n",
      " 5   CLASS                  93937 non-null  object        \n",
      " 6   CURRENCY_CODE          93937 non-null  object        \n",
      " 7   Local Amount           93937 non-null  float64       \n",
      " 8   USD Amount             93937 non-null  float64       \n",
      " 9   INVOICE_ALLOCATED      93937 non-null  object        \n",
      " 10  INVOICE_CREATION_DATE  93937 non-null  datetime64[ns]\n",
      " 11  DUE_DATE               93937 non-null  datetime64[ns]\n",
      " 12  PAYMENT_TERM           93937 non-null  object        \n",
      " 13  INVOICE_CLASS          93937 non-null  object        \n",
      " 14  INVOICE_CURRENCY_CODE  93937 non-null  object        \n",
      " 15  INVOICE_TYPE           93937 non-null  object        \n",
      " 16  AS_OF_DATE             93937 non-null  datetime64[ns]\n",
      " 17  Customer Type          93937 non-null  object        \n",
      " 18  target                 93937 non-null  int32         \n",
      "dtypes: datetime64[ns](4), float64(3), int32(1), int64(1), object(10)\n",
      "memory usage: 13.3+ MB\n"
     ]
    }
   ],
   "source": [
    "#checking the basic information about the columns\n",
    "train.info()"
   ]
  },
  {
   "cell_type": "code",
   "execution_count": 11,
   "id": "85786d33",
   "metadata": {},
   "outputs": [
    {
     "data": {
      "text/plain": [
       "<AxesSubplot:ylabel='Frequency'>"
      ]
     },
     "execution_count": 11,
     "metadata": {},
     "output_type": "execute_result"
    },
    {
     "data": {
      "image/png": "[encoded data removed]",
      "text/plain": [
       "<Figure size 432x288 with 1 Axes>"
      ]
     },
     "metadata": {
      "needs_background": "light"
     },
     "output_type": "display_data"
    }
   ],
   "source": [
    "#Plotting the distribution of invoice value\n",
    "train['USD Amount'].plot.hist()"
   ]
  },
  {
   "cell_type": "code",
   "execution_count": 8,
   "id": "f3378e1e",
   "metadata": {},
   "outputs": [],
   "source": [
    "import seaborn as sns\n",
    "sns.set_theme(style=\"whitegrid\")"
   ]
  },
  {
   "cell_type": "code",
   "execution_count": 13,
   "id": "7190cc63",
   "metadata": {},
   "outputs": [
    {
     "data": {
      "text/plain": [
       "<AxesSubplot:xlabel='target', ylabel='count'>"
      ]
     },
     "execution_count": 13,
     "metadata": {},
     "output_type": "execute_result"
    },
    {
     "data": {
      "image/png": "[encoded data removed]",
      "text/plain": [
       "<Figure size 432x288 with 1 Axes>"
      ]
     },
     "metadata": {},
     "output_type": "display_data"
    }
   ],
   "source": [
    "sns.countplot(x=train[\"target\"])"
   ]
  },
  {
   "cell_type": "code",
   "execution_count": 14,
   "id": "6a10e466",
   "metadata": {},
   "outputs": [
    {
     "data": {
      "text/html": [
       "<div>\n",
       "<style scoped>\n",
       "    .dataframe tbody tr th:only-of-type {\n",
       "        vertical-align: middle;\n",
       "    }\n",
       "\n",
       "    .dataframe tbody tr th {\n",
       "        vertical-align: top;\n",
       "    }\n",
       "\n",
       "    .dataframe thead th {\n",
       "        text-align: right;\n",
       "    }\n",
       "</style>\n",
       "<table border=\"1\" class=\"dataframe\">\n",
       "  <thead>\n",
       "    <tr style=\"text-align: right;\">\n",
       "      <th></th>\n",
       "      <th>counts</th>\n",
       "      <th>%</th>\n",
       "    </tr>\n",
       "  </thead>\n",
       "  <tbody>\n",
       "    <tr>\n",
       "      <th>1</th>\n",
       "      <td>90263</td>\n",
       "      <td>96.09</td>\n",
       "    </tr>\n",
       "    <tr>\n",
       "      <th>0</th>\n",
       "      <td>3674</td>\n",
       "      <td>3.91</td>\n",
       "    </tr>\n",
       "  </tbody>\n",
       "</table>\n",
       "</div>"
      ],
      "text/plain": [
       "   counts      %\n",
       "1   90263  96.09\n",
       "0    3674   3.91"
      ]
     },
     "execution_count": 14,
     "metadata": {},
     "output_type": "execute_result"
    }
   ],
   "source": [
    "c = train.target.value_counts()\n",
    "p = np.round(train.target.value_counts(normalize=True)*100,2)\n",
    "pd.concat([c,p], axis=1, keys=['counts', '%'])"
   ]
  },
  {
   "cell_type": "markdown",
   "id": "5d695f46",
   "metadata": {},
   "source": [
    "Here we can see, approximately 4% of the customers are marked as 'Delayed'\n",
    "Clearly class imbalance is the isuue and we will deal it in the model building process"
   ]
  },
  {
   "cell_type": "code",
   "execution_count": 15,
   "id": "57312663",
   "metadata": {},
   "outputs": [
    {
     "data": {
      "text/plain": [
       "<AxesSubplot:xlabel='CLASS', ylabel='count'>"
      ]
     },
     "execution_count": 15,
     "metadata": {},
     "output_type": "execute_result"
    },
    {
     "data": {
      "image/png": "[encoded data removed]",
      "text/plain": [
       "<Figure size 432x288 with 1 Axes>"
      ]
     },
     "metadata": {},
     "output_type": "display_data"
    }
   ],
   "source": [
    "#delayed and on-time customer unique value counts with the payment class\n",
    "sns.countplot(data=train, x=\"CLASS\", hue=\"target\")"
   ]
  },
  {
   "cell_type": "code",
   "execution_count": 21,
   "id": "5b513860",
   "metadata": {},
   "outputs": [
    {
     "data": {
      "text/plain": [
       "60 Days from Inv Date                                      19870\n",
       "30 Days from Inv Date                                      14672\n",
       "60 Days from EOM                                           12518\n",
       "30 Days from EOM                                           11306\n",
       "15 Days from EOM                                            7544\n",
       "Immediate Payment                                           5474\n",
       "Immediate                                                   5261\n",
       "90 Days from EOM                                            3893\n",
       "45 Days from Inv Date                                       3550\n",
       "45 Days from EOM                                            3509\n",
       "90 Days from Inv Date                                       2211\n",
       "100% Adv Payment                                            1241\n",
       "25 DAYS FROM EOM                                             462\n",
       "Cash on Delivery                                             418\n",
       "15 Days from Inv Date                                        356\n",
       "45 DAYS + EOM                                                322\n",
       "On Consignment                                               264\n",
       "EOM                                                          232\n",
       "75 Days from EOM                                             197\n",
       "120 Days from Inv Date                                       124\n",
       "LC at 60 days                                                115\n",
       "50% Advance 50% INVDATE+60 DAYS                               94\n",
       "75 Days from Inv Date                                         59\n",
       "7 Days from Inv Date                                          46\n",
       "50% ADV 50% 30 Days                                           44\n",
       "LCSight                                                       31\n",
       "LC at 90 days                                                 29\n",
       "195 days from Invoice Date                                    23\n",
       "LC at 60 days from FCR/AWB/BL date                            18\n",
       "30% advance 70% after 60 days from invoice date               14\n",
       "50% ADVANCE PAYMENT AND 50% UPON RECEIVING THE SHIPMENT        8\n",
       "30% advance 70% after 30 days from invoice date                6\n",
       "Cash Against Document at sight                                 6\n",
       "365 DAYS FROM INVOICE DATE                                     5\n",
       "25% ADVANCE, 75% 30 DAYS FROM INVOICE DATE                     4\n",
       "Advance with discount                                          2\n",
       "50% at 30 days and 50% at 60 days                              2\n",
       "40 DAYS FROM EOM                                               2\n",
       "Standby LC at 30 days                                          2\n",
       "180 DAYS FROM INV DATE                                         1\n",
       "120 Days from EOM                                              1\n",
       "7 Days from EOM                                                1\n",
       "Name: PAYMENT_TERM, dtype: int64"
      ]
     },
     "execution_count": 21,
     "metadata": {},
     "output_type": "execute_result"
    }
   ],
   "source": [
    "#unique value counts of payment terms\n",
    "train['PAYMENT_TERM'].value_counts()"
   ]
  },
  {
   "cell_type": "code",
   "execution_count": 22,
   "id": "487df1d4",
   "metadata": {},
   "outputs": [
    {
     "data": {
      "text/plain": [
       "INV    88124\n",
       "CM      5261\n",
       "DM       552\n",
       "Name: INVOICE_CLASS, dtype: int64"
      ]
     },
     "execution_count": 22,
     "metadata": {},
     "output_type": "execute_result"
    }
   ],
   "source": [
    "#unique value count distribution of invoice class\n",
    "train['INVOICE_CLASS'].value_counts()"
   ]
  },
  {
   "cell_type": "code",
   "execution_count": 23,
   "id": "3d737c9c",
   "metadata": {},
   "outputs": [
    {
     "data": {
      "text/plain": [
       "Goods        66715\n",
       "Non Goods    27222\n",
       "Name: INVOICE_TYPE, dtype: int64"
      ]
     },
     "execution_count": 23,
     "metadata": {},
     "output_type": "execute_result"
    }
   ],
   "source": [
    "#unique value count distribution of invoice type\n",
    "train['INVOICE_TYPE'].value_counts()"
   ]
  },
  {
   "cell_type": "code",
   "execution_count": 16,
   "id": "2f64d508",
   "metadata": {},
   "outputs": [
    {
     "data": {
      "text/plain": [
       "<AxesSubplot:xlabel='INVOICE_CLASS', ylabel='count'>"
      ]
     },
     "execution_count": 16,
     "metadata": {},
     "output_type": "execute_result"
    },
    {
     "data": {
      "image/png": "[encoded data removed]",
      "text/plain": [
       "<Figure size 432x288 with 1 Axes>"
      ]
     },
     "metadata": {},
     "output_type": "display_data"
    }
   ],
   "source": [
    "#delayed and on-time customer distribution across the invoice class categories\n",
    "sns.countplot(data=train, x='INVOICE_CLASS', hue=\"target\")"
   ]
  },
  {
   "cell_type": "code",
   "execution_count": 17,
   "id": "27c0b54a",
   "metadata": {},
   "outputs": [
    {
     "data": {
      "text/plain": [
       "<AxesSubplot:xlabel='INVOICE_TYPE', ylabel='count'>"
      ]
     },
     "execution_count": 17,
     "metadata": {},
     "output_type": "execute_result"
    },
    {
     "data": {
      "image/png": "[encoded data removed]",
      "text/plain": [
       "<Figure size 432x288 with 1 Axes>"
      ]
     },
     "metadata": {},
     "output_type": "display_data"
    }
   ],
   "source": [
    "#delayed and on-time customer distribution across the invoice type categories\n",
    "sns.countplot(data=train, x='INVOICE_TYPE', hue=\"target\")"
   ]
  },
  {
   "cell_type": "code",
   "execution_count": 18,
   "id": "ccb4c51e",
   "metadata": {},
   "outputs": [
    {
     "data": {
      "text/plain": [
       "<AxesSubplot:xlabel='INVOICE_TYPE', ylabel='USD Amount'>"
      ]
     },
     "execution_count": 18,
     "metadata": {},
     "output_type": "execute_result"
    },
    {
     "data": {
      "image/png": "[encoded data removed]",
      "text/plain": [
       "<Figure size 432x288 with 1 Axes>"
      ]
     },
     "metadata": {},
     "output_type": "display_data"
    }
   ],
   "source": [
    "#Multivariate analysis\n",
    "sns.barplot(data=train, x=\"INVOICE_TYPE\", y=\"USD Amount\", hue=\"target\")"
   ]
  },
  {
   "cell_type": "markdown",
   "id": "9a401ec8",
   "metadata": {},
   "source": [
    "invoice amount showing pretty high for delayed payment customers in Goods invoice type"
   ]
  },
  {
   "cell_type": "code",
   "execution_count": 19,
   "id": "8e5d1dc8",
   "metadata": {},
   "outputs": [
    {
     "data": {
      "text/plain": [
       "<AxesSubplot:xlabel='INVOICE_CLASS', ylabel='USD Amount'>"
      ]
     },
     "execution_count": 19,
     "metadata": {},
     "output_type": "execute_result"
    },
    {
     "data": {
      "image/png": "[encoded data removed]",
      "text/plain": [
       "<Figure size 432x288 with 1 Axes>"
      ]
     },
     "metadata": {},
     "output_type": "display_data"
    }
   ],
   "source": [
    "#Multivariate analysis\n",
    "sns.barplot(data=train, x=\"INVOICE_CLASS\", y=\"USD Amount\", hue=\"target\")"
   ]
  },
  {
   "cell_type": "markdown",
   "id": "71309c73",
   "metadata": {},
   "source": [
    "credit card payment mode accounts highest invoice amount across all the invoice classes for on-time customers "
   ]
  },
  {
   "cell_type": "code",
   "execution_count": 35,
   "id": "45f8ab0a",
   "metadata": {},
   "outputs": [
    {
     "data": {
      "text/plain": [
       "<AxesSubplot:ylabel='Frequency'>"
      ]
     },
     "execution_count": 35,
     "metadata": {},
     "output_type": "execute_result"
    },
    {
     "data": {
      "image/png": "[encoded data removed]",
      "text/plain": [
       "<Figure size 432x288 with 1 Axes>"
      ]
     },
     "metadata": {},
     "output_type": "display_data"
    }
   ],
   "source": [
    "#distribution of the invoice amount(USD)\n",
    "train['USD Amount'].plot(kind='hist')"
   ]
  },
  {
   "cell_type": "code",
   "execution_count": 8,
   "id": "6e901461",
   "metadata": {},
   "outputs": [],
   "source": [
    "#variable transformation\n",
    "#method: cube root \n",
    "train['cbrt_USD_Amount'] = np.cbrt(train['USD Amount'])"
   ]
  },
  {
   "cell_type": "code",
   "execution_count": 9,
   "id": "1af184b0",
   "metadata": {},
   "outputs": [
    {
     "data": {
      "text/plain": [
       "<AxesSubplot:ylabel='Frequency'>"
      ]
     },
     "execution_count": 9,
     "metadata": {},
     "output_type": "execute_result"
    },
    {
     "data": {
      "image/png": "[encoded data removed]",
      "text/plain": [
       "<Figure size 432x288 with 1 Axes>"
      ]
     },
     "metadata": {},
     "output_type": "display_data"
    }
   ],
   "source": [
    "train['cbrt_USD_Amount'].plot(kind='hist')"
   ]
  },
  {
   "cell_type": "code",
   "execution_count": 9,
   "id": "802c0f73",
   "metadata": {},
   "outputs": [],
   "source": [
    "#The age is calculated in days by taking the difference between Transaction Date and Due Date\n",
    "train['age']=(train['INVOICE_CREATION_DATE']-train['DUE_DATE']).dt.days"
   ]
  },
  {
   "cell_type": "code",
   "execution_count": 11,
   "id": "afafc71f",
   "metadata": {},
   "outputs": [
    {
     "data": {
      "text/html": [
       "<div>\n",
       "<style scoped>\n",
       "    .dataframe tbody tr th:only-of-type {\n",
       "        vertical-align: middle;\n",
       "    }\n",
       "\n",
       "    .dataframe tbody tr th {\n",
       "        vertical-align: top;\n",
       "    }\n",
       "\n",
       "    .dataframe thead th {\n",
       "        text-align: right;\n",
       "    }\n",
       "</style>\n",
       "<table border=\"1\" class=\"dataframe\">\n",
       "  <thead>\n",
       "    <tr style=\"text-align: right;\">\n",
       "      <th></th>\n",
       "      <th>RECEIPT_METHOD</th>\n",
       "      <th>CUSTOMER_NAME</th>\n",
       "      <th>CUSTOMER_NUMBER</th>\n",
       "      <th>RECEIPT_DOC_NO</th>\n",
       "      <th>RECEIPT_DATE</th>\n",
       "      <th>CLASS</th>\n",
       "      <th>CURRENCY_CODE</th>\n",
       "      <th>Local Amount</th>\n",
       "      <th>USD Amount</th>\n",
       "      <th>INVOICE_ALLOCATED</th>\n",
       "      <th>...</th>\n",
       "      <th>DUE_DATE</th>\n",
       "      <th>PAYMENT_TERM</th>\n",
       "      <th>INVOICE_CLASS</th>\n",
       "      <th>INVOICE_CURRENCY_CODE</th>\n",
       "      <th>INVOICE_TYPE</th>\n",
       "      <th>AS_OF_DATE</th>\n",
       "      <th>Customer Type</th>\n",
       "      <th>target</th>\n",
       "      <th>cbrt_USD_Amount</th>\n",
       "      <th>age</th>\n",
       "    </tr>\n",
       "  </thead>\n",
       "  <tbody>\n",
       "    <tr>\n",
       "      <th>82565</th>\n",
       "      <td>CHEQUE</td>\n",
       "      <td>BIN  Corp</td>\n",
       "      <td>34918</td>\n",
       "      <td>1.970000e+11</td>\n",
       "      <td>2021-06-20</td>\n",
       "      <td>PMT</td>\n",
       "      <td>SAR</td>\n",
       "      <td>135412.04</td>\n",
       "      <td>36102.66371</td>\n",
       "      <td>197200000000</td>\n",
       "      <td>...</td>\n",
       "      <td>2021-03-30</td>\n",
       "      <td>90 Days from EOM</td>\n",
       "      <td>DM</td>\n",
       "      <td>SAR</td>\n",
       "      <td>Non Goods</td>\n",
       "      <td>2022-04-04 01:07:00</td>\n",
       "      <td>3rd Party</td>\n",
       "      <td>1</td>\n",
       "      <td>33.050630</td>\n",
       "      <td>-86</td>\n",
       "    </tr>\n",
       "    <tr>\n",
       "      <th>77873</th>\n",
       "      <td>WIRE</td>\n",
       "      <td>FARO Corp</td>\n",
       "      <td>1409</td>\n",
       "      <td>1.890000e+11</td>\n",
       "      <td>2021-04-01</td>\n",
       "      <td>PMT</td>\n",
       "      <td>USD</td>\n",
       "      <td>150538.17</td>\n",
       "      <td>150538.17000</td>\n",
       "      <td>189210000000</td>\n",
       "      <td>...</td>\n",
       "      <td>2021-04-15</td>\n",
       "      <td>60 Days from Inv Date</td>\n",
       "      <td>INV</td>\n",
       "      <td>SAR</td>\n",
       "      <td>Goods</td>\n",
       "      <td>2022-04-04 01:07:00</td>\n",
       "      <td>Related Party</td>\n",
       "      <td>1</td>\n",
       "      <td>53.196396</td>\n",
       "      <td>-59</td>\n",
       "    </tr>\n",
       "    <tr>\n",
       "      <th>33271</th>\n",
       "      <td>WIRE</td>\n",
       "      <td>PUIG Corp</td>\n",
       "      <td>33682</td>\n",
       "      <td>1.490000e+11</td>\n",
       "      <td>2021-05-10</td>\n",
       "      <td>PMT</td>\n",
       "      <td>USD</td>\n",
       "      <td>2192.53</td>\n",
       "      <td>2192.53000</td>\n",
       "      <td>149210000000</td>\n",
       "      <td>...</td>\n",
       "      <td>2021-05-07</td>\n",
       "      <td>30 Days from Inv Date</td>\n",
       "      <td>INV</td>\n",
       "      <td>USD</td>\n",
       "      <td>Non Goods</td>\n",
       "      <td>2022-04-04 01:07:00</td>\n",
       "      <td>3rd Party</td>\n",
       "      <td>1</td>\n",
       "      <td>12.991177</td>\n",
       "      <td>-29</td>\n",
       "    </tr>\n",
       "    <tr>\n",
       "      <th>63525</th>\n",
       "      <td>WIRE</td>\n",
       "      <td>L OR Corp</td>\n",
       "      <td>29420</td>\n",
       "      <td>1.590000e+11</td>\n",
       "      <td>2021-02-28</td>\n",
       "      <td>PMT</td>\n",
       "      <td>AED</td>\n",
       "      <td>531300.00</td>\n",
       "      <td>144669.84340</td>\n",
       "      <td>159200000000</td>\n",
       "      <td>...</td>\n",
       "      <td>2021-01-30</td>\n",
       "      <td>60 Days from EOM</td>\n",
       "      <td>INV</td>\n",
       "      <td>AED</td>\n",
       "      <td>Non Goods</td>\n",
       "      <td>2022-04-04 01:07:00</td>\n",
       "      <td>Related Party</td>\n",
       "      <td>1</td>\n",
       "      <td>52.495975</td>\n",
       "      <td>-61</td>\n",
       "    </tr>\n",
       "    <tr>\n",
       "      <th>16563</th>\n",
       "      <td>WIRE</td>\n",
       "      <td>SEPH Corp</td>\n",
       "      <td>15768</td>\n",
       "      <td>1.280000e+11</td>\n",
       "      <td>2021-01-27</td>\n",
       "      <td>PMT</td>\n",
       "      <td>SAR</td>\n",
       "      <td>3034583.32</td>\n",
       "      <td>809060.56140</td>\n",
       "      <td>128200000000</td>\n",
       "      <td>...</td>\n",
       "      <td>2021-01-07</td>\n",
       "      <td>60 Days from Inv Date</td>\n",
       "      <td>INV</td>\n",
       "      <td>SAR</td>\n",
       "      <td>Goods</td>\n",
       "      <td>2022-04-04 01:07:00</td>\n",
       "      <td>Related Party</td>\n",
       "      <td>1</td>\n",
       "      <td>93.180924</td>\n",
       "      <td>-60</td>\n",
       "    </tr>\n",
       "  </tbody>\n",
       "</table>\n",
       "<p>5 rows × 21 columns</p>\n",
       "</div>"
      ],
      "text/plain": [
       "      RECEIPT_METHOD CUSTOMER_NAME  CUSTOMER_NUMBER  RECEIPT_DOC_NO  \\\n",
       "82565         CHEQUE     BIN  Corp            34918    1.970000e+11   \n",
       "77873           WIRE     FARO Corp             1409    1.890000e+11   \n",
       "33271           WIRE     PUIG Corp            33682    1.490000e+11   \n",
       "63525           WIRE     L OR Corp            29420    1.590000e+11   \n",
       "16563           WIRE     SEPH Corp            15768    1.280000e+11   \n",
       "\n",
       "      RECEIPT_DATE CLASS CURRENCY_CODE  Local Amount    USD Amount  \\\n",
       "82565   2021-06-20   PMT           SAR     135412.04   36102.66371   \n",
       "77873   2021-04-01   PMT           USD     150538.17  150538.17000   \n",
       "33271   2021-05-10   PMT           USD       2192.53    2192.53000   \n",
       "63525   2021-02-28   PMT           AED     531300.00  144669.84340   \n",
       "16563   2021-01-27   PMT           SAR    3034583.32  809060.56140   \n",
       "\n",
       "      INVOICE_ALLOCATED  ...   DUE_DATE           PAYMENT_TERM INVOICE_CLASS  \\\n",
       "82565      197200000000  ... 2021-03-30       90 Days from EOM            DM   \n",
       "77873      189210000000  ... 2021-04-15  60 Days from Inv Date           INV   \n",
       "33271      149210000000  ... 2021-05-07  30 Days from Inv Date           INV   \n",
       "63525      159200000000  ... 2021-01-30       60 Days from EOM           INV   \n",
       "16563      128200000000  ... 2021-01-07  60 Days from Inv Date           INV   \n",
       "\n",
       "      INVOICE_CURRENCY_CODE INVOICE_TYPE          AS_OF_DATE  Customer Type  \\\n",
       "82565                   SAR    Non Goods 2022-04-04 01:07:00      3rd Party   \n",
       "77873                   SAR        Goods 2022-04-04 01:07:00  Related Party   \n",
       "33271                   USD    Non Goods 2022-04-04 01:07:00      3rd Party   \n",
       "63525                   AED    Non Goods 2022-04-04 01:07:00  Related Party   \n",
       "16563                   SAR        Goods 2022-04-04 01:07:00  Related Party   \n",
       "\n",
       "      target  cbrt_USD_Amount  age  \n",
       "82565      1        33.050630  -86  \n",
       "77873      1        53.196396  -59  \n",
       "33271      1        12.991177  -29  \n",
       "63525      1        52.495975  -61  \n",
       "16563      1        93.180924  -60  \n",
       "\n",
       "[5 rows x 21 columns]"
      ]
     },
     "execution_count": 11,
     "metadata": {},
     "output_type": "execute_result"
    }
   ],
   "source": [
    "train[train['target']==1].sample(5)"
   ]
  },
  {
   "cell_type": "markdown",
   "id": "52e017b0",
   "metadata": {},
   "source": [
    "**Clustering - Customer Segmentation**"
   ]
  },
  {
   "cell_type": "markdown",
   "id": "1af4e65a",
   "metadata": {},
   "source": [
    "**Recommendation Given:** Customer-level attributes could also be important independent variables to be included in the model.\n",
    "A customer-level attribute can be determined via customer segmentation. You have to segment your customers based on\n",
    "two derived variables: the average payment time in days for a customer and the standard deviation for the payment time.\n",
    "Using clustering techniques would result in a few distinct clusters of customers, which can be used as an input variable\n",
    "for the ML model."
   ]
  },
  {
   "cell_type": "code",
   "execution_count": 197,
   "id": "202707cc",
   "metadata": {},
   "outputs": [],
   "source": [
    "clustering_data = train[['Customer Type','target','Local Amount','age','INVOICE_CLASS','INVOICE_CREATION_DATE']]"
   ]
  },
  {
   "cell_type": "code",
   "execution_count": 198,
   "id": "ede4db0e",
   "metadata": {},
   "outputs": [],
   "source": [
    "clustering_data = clustering_data.applymap(lambda s: s.lower() if type(s) == str else s)"
   ]
  },
  {
   "cell_type": "code",
   "execution_count": 199,
   "id": "5fb7148d",
   "metadata": {},
   "outputs": [],
   "source": [
    "clustering_data.columns= clustering_data.columns.str.lower()"
   ]
  },
  {
   "cell_type": "code",
   "execution_count": 200,
   "id": "c4ddb48b",
   "metadata": {},
   "outputs": [],
   "source": [
    "clustering_data['std'] = clustering_data[['age','local amount']].std(axis=1)"
   ]
  },
  {
   "cell_type": "code",
   "execution_count": 201,
   "id": "3e3f4521",
   "metadata": {},
   "outputs": [],
   "source": [
    "clustering_data['target'] = clustering_data['target'].astype(str)"
   ]
  },
  {
   "cell_type": "code",
   "execution_count": 202,
   "id": "957daab3",
   "metadata": {},
   "outputs": [],
   "source": [
    "clustering_data = clustering_data.loc[clustering_data['age']<=1200]"
   ]
  },
  {
   "cell_type": "code",
   "execution_count": 203,
   "id": "c53efd75",
   "metadata": {},
   "outputs": [],
   "source": [
    "median = clustering_data[\"age\"].median()\n",
    "clustering_data[\"age\"] = np.where(clustering_data[\"age\"] >400, median,clustering_data['age'])"
   ]
  },
  {
   "cell_type": "code",
   "execution_count": 136,
   "id": "d68740e4",
   "metadata": {},
   "outputs": [],
   "source": [
    "from pandas.api.types import is_string_dtype\n",
    "from pandas.api.types import is_numeric_dtype"
   ]
  },
  {
   "cell_type": "code",
   "execution_count": 139,
   "id": "3d8faabd",
   "metadata": {},
   "outputs": [
    {
     "name": "stdout",
     "output_type": "stream",
     "text": [
      "numeric: ['local amount', 'age']\n",
      "categorical: ['customer type', 'target', 'invoice_class']\n"
     ]
    }
   ],
   "source": [
    "# populate list of numerical and categorical variables\n",
    "num_list = []\n",
    "cat_list = []\n",
    "\n",
    "for column in clustering_data:\n",
    "    if is_numeric_dtype(clustering_data[column]):\n",
    "        num_list.append(column)\n",
    "    elif is_string_dtype(clustering_data[column]):\n",
    "        cat_list.append(column)\n",
    "        \n",
    "\n",
    "print(\"numeric:\", num_list)\n",
    "print(\"categorical:\", cat_list)"
   ]
  },
  {
   "cell_type": "code",
   "execution_count": 141,
   "id": "53b19c2c",
   "metadata": {},
   "outputs": [
    {
     "data": {
      "image/png": "[encoded data removed]",
      "text/plain": [
       "<Figure size 360x360 with 1 Axes>"
      ]
     },
     "metadata": {},
     "output_type": "display_data"
    },
    {
     "data": {
      "image/png": "[encoded data removed]",
      "text/plain": [
       "<Figure size 360x360 with 1 Axes>"
      ]
     },
     "metadata": {},
     "output_type": "display_data"
    },
    {
     "data": {
      "image/png": "[encoded data removed]",
      "text/plain": [
       "<Figure size 360x360 with 1 Axes>"
      ]
     },
     "metadata": {},
     "output_type": "display_data"
    },
    {
     "data": {
      "image/png": "[encoded data removed]",
      "text/plain": [
       "<Figure size 360x360 with 1 Axes>"
      ]
     },
     "metadata": {},
     "output_type": "display_data"
    },
    {
     "data": {
      "image/png": "[encoded data removed]",
      "text/plain": [
       "<Figure size 360x360 with 1 Axes>"
      ]
     },
     "metadata": {},
     "output_type": "display_data"
    },
    {
     "data": {
      "image/png": "[encoded data removed]",
      "text/plain": [
       "<Figure size 360x360 with 1 Axes>"
      ]
     },
     "metadata": {},
     "output_type": "display_data"
    }
   ],
   "source": [
    "for column in clustering_data:\n",
    "    plt.figure(column, figsize = (5,5))\n",
    "    plt.title(column)\n",
    "    if is_numeric_dtype(clustering_data[column]):\n",
    "        clustering_data[column].plot(kind = 'hist')\n",
    "    elif is_string_dtype(clustering_data[column]):\n",
    "        # show only the TOP 10 value count in each categorical data\n",
    "        clustering_data[column].value_counts()[:10].plot(kind = 'bar')"
   ]
  },
  {
   "cell_type": "code",
   "execution_count": 143,
   "id": "12ba5405",
   "metadata": {},
   "outputs": [],
   "source": [
    "# encoding categorical variable\n",
    "from sklearn.preprocessing import LabelEncoder\n",
    "\n",
    "clustering_data['customer type'] = LabelEncoder().fit_transform(clustering_data[\"customer type\"])\n",
    "clustering_data['invoice_class'] = LabelEncoder().fit_transform(clustering_data[\"invoice_class\"])\n"
   ]
  },
  {
   "cell_type": "code",
   "execution_count": 142,
   "id": "6e43f37e",
   "metadata": {},
   "outputs": [
    {
     "data": {
      "text/plain": [
       "Index(['customer type', 'target', 'local amount', 'age', 'invoice_class',\n",
       "       'invoice_creation_date'],\n",
       "      dtype='object')"
      ]
     },
     "execution_count": 142,
     "metadata": {},
     "output_type": "execute_result"
    }
   ],
   "source": [
    "clustering_data.columns"
   ]
  },
  {
   "cell_type": "code",
   "execution_count": 214,
   "id": "a1725920",
   "metadata": {},
   "outputs": [],
   "source": [
    "from sklearn.preprocessing import StandardScaler\n",
    "from sklearn.preprocessing import MinMaxScaler\n",
    "from sklearn.preprocessing import RobustScaler\n",
    "\n",
    "\n",
    "def data_scaler(scaler, var):\n",
    "    scaled_var = \"scaled_\" + var\n",
    "    model = scaler.fit(df[var].values.reshape(-1,1))\n",
    "    df[scaled_var] = model.transform(df[var].values.reshape(-1, 1))\n",
    "    \n",
    "    plt.figure(figsize = (5,5))\n",
    "    plt.title(scaled_var)\n",
    "    df[scaled_var].plot(kind = 'hist')\n",
    "    \n",
    "    plt.figure(figsize = (5,5))\n",
    "    plt.title(var)\n",
    "    df[var].plot(kind = 'hist')"
   ]
  },
  {
   "cell_type": "code",
   "execution_count": 215,
   "id": "5c82e111",
   "metadata": {},
   "outputs": [],
   "source": [
    "from sklearn.preprocessing import StandardScaler\n",
    "\n",
    "scaler = StandardScaler()\n",
    "\n",
    "for var in [\"age\", \"local amount\"]:\n",
    "    scaled_var = \"scaled_\" + var\n",
    "    model = scaler.fit(clustering_data[var].values.reshape(-1,1))\n",
    "    clustering_data[scaled_var] = model.transform(clustering_data[var].values.reshape(-1, 1))"
   ]
  },
  {
   "cell_type": "code",
   "execution_count": 216,
   "id": "5b8706fc",
   "metadata": {},
   "outputs": [
    {
     "data": {
      "text/plain": [
       "<AxesSubplot:title={'center':'scaled_age'}, ylabel='Frequency'>"
      ]
     },
     "execution_count": 216,
     "metadata": {},
     "output_type": "execute_result"
    },
    {
     "data": {
      "image/png": "[encoded data removed]",
      "text/plain": [
       "<Figure size 360x360 with 1 Axes>"
      ]
     },
     "metadata": {},
     "output_type": "display_data"
    }
   ],
   "source": [
    "plt.figure(figsize = (5,5))\n",
    "plt.title('scaled_age')\n",
    "clustering_data['scaled_age'].plot(kind = 'hist')"
   ]
  },
  {
   "cell_type": "code",
   "execution_count": 217,
   "id": "54e09287",
   "metadata": {},
   "outputs": [
    {
     "data": {
      "text/plain": [
       "<AxesSubplot:title={'center':'scaled_local amount'}, ylabel='Frequency'>"
      ]
     },
     "execution_count": 217,
     "metadata": {},
     "output_type": "execute_result"
    },
    {
     "data": {
      "image/png": "[encoded data removed]",
      "text/plain": [
       "<Figure size 360x360 with 1 Axes>"
      ]
     },
     "metadata": {},
     "output_type": "display_data"
    }
   ],
   "source": [
    "plt.figure(figsize = (5,5))\n",
    "plt.title('scaled_local amount')\n",
    "clustering_data['scaled_local amount'].plot(kind = 'hist')"
   ]
  },
  {
   "cell_type": "code",
   "execution_count": 218,
   "id": "962ba3fc",
   "metadata": {},
   "outputs": [
    {
     "data": {
      "image/png": "[encoded data removed]",
      "text/plain": [
       "<Figure size 1080x360 with 6 Axes>"
      ]
     },
     "metadata": {},
     "output_type": "display_data"
    }
   ],
   "source": [
    "import seaborn as sns\n",
    "columns = ['scaled_age','scaled_local amount']\n",
    "#plt.figure(figsize = (10,20))\n",
    "g = sns.pairplot(clustering_data[columns])\n",
    "g.fig.set_size_inches(15,5)"
   ]
  },
  {
   "cell_type": "code",
   "execution_count": 158,
   "id": "2ba10c6d",
   "metadata": {},
   "outputs": [],
   "source": [
    "# Load packages\n",
    "import pandas as pd\n",
    "import seaborn as sns\n",
    "import numpy as np\n",
    "import matplotlib.pyplot as plt \n",
    "from sklearn.cluster import KMeans\n",
    "from sklearn.model_selection import train_test_split\n",
    "sns.set_style('darkgrid')"
   ]
  },
  {
   "cell_type": "code",
   "execution_count": 204,
   "id": "4dc235d9",
   "metadata": {},
   "outputs": [],
   "source": [
    "X = np.array(clustering_data.loc[:,['std',                # Choose the variable names\n",
    "                       'age']])    \\\n",
    "                        .reshape(-1, 2)"
   ]
  },
  {
   "cell_type": "code",
   "execution_count": 205,
   "id": "0fe3bb89",
   "metadata": {},
   "outputs": [],
   "source": [
    "# Determine optimal cluster number with elbow method\n",
    "wcss = []"
   ]
  },
  {
   "cell_type": "code",
   "execution_count": 206,
   "id": "19a3f53b",
   "metadata": {},
   "outputs": [],
   "source": [
    "for i in range(1, 11):\n",
    "    model = KMeans(n_clusters = i,     \n",
    "                    init = 'k-means++',                 # Initialization method for kmeans\n",
    "                    max_iter = 300,                     # Maximum number of iterations \n",
    "                    n_init = 10,                        # Choose how often algorithm will run with different centroid \n",
    "                    random_state = 0)                   # Choose random state for reproducibility\n",
    "    model.fit(X)                              \n",
    "    wcss.append(model.inertia_)"
   ]
  },
  {
   "cell_type": "code",
   "execution_count": 207,
   "id": "a2d275b2",
   "metadata": {},
   "outputs": [
    {
     "data": {
      "image/png": "[encoded data removed]",
      "text/plain": [
       "<Figure size 432x288 with 1 Axes>"
      ]
     },
     "metadata": {},
     "output_type": "display_data"
    }
   ],
   "source": [
    "# Show Elbow plot\n",
    "plt.plot(range(1, 11), wcss)\n",
    "plt.title('Elbow Method')                               # Set plot title\n",
    "plt.xlabel('Number of clusters')                        # Set x axis name\n",
    "plt.ylabel('Within Cluster Sum of Squares (WCSS)')      # Set y axis name\n",
    "plt.show()"
   ]
  },
  {
   "cell_type": "code",
   "execution_count": 208,
   "id": "a7412976",
   "metadata": {},
   "outputs": [],
   "source": [
    "kmeans = KMeans(n_clusters = 3,                 # Set amount of clusters\n",
    "                init = 'k-means++',             # Initialization method for kmeans\n",
    "                max_iter = 300,                 # Maximum number of iterations\n",
    "                n_init = 10,                    # Choose how often algorithm will run with different centroid\n",
    "                random_state = 0)               # Choose random state for reproducibility\n",
    "\n",
    "pred_y = kmeans.fit_predict(X)"
   ]
  },
  {
   "cell_type": "code",
   "execution_count": 213,
   "id": "c08c7d05",
   "metadata": {},
   "outputs": [
    {
     "data": {
      "image/png": "[encoded data removed]",
      "text/plain": [
       "<Figure size 432x288 with 1 Axes>"
      ]
     },
     "metadata": {},
     "output_type": "display_data"
    }
   ],
   "source": [
    "# Plot the data\n",
    "plt.scatter(X[:,0], \n",
    "            X[:,1])\n",
    "\n",
    "# Plot the clusters \n",
    "plt.scatter(kmeans.cluster_centers_[:, 0], \n",
    "            kmeans.cluster_centers_[:, 1], \n",
    "            s=1000,                             # Set centroid size\n",
    "            c='red',\n",
    "           alpha=0.5)                           # Set centroid color\n",
    "plt.show()"
   ]
  },
  {
   "cell_type": "markdown",
   "id": "584e9a3a",
   "metadata": {},
   "source": [
    "We can see that average days of the payment time are segmented in three main zones: 0-1 standard deviation of payment time, 2 standard deviation of payment time and 4 standard deviation of payment time"
   ]
  },
  {
   "cell_type": "markdown",
   "id": "59e9d889",
   "metadata": {},
   "source": [
    "**Data Preparation**"
   ]
  },
  {
   "cell_type": "code",
   "execution_count": 10,
   "id": "3d794241",
   "metadata": {},
   "outputs": [],
   "source": [
    "#dropping the date columns as the necessary information has been derived before\n",
    "train = train.drop(['RECEIPT_DATE','AS_OF_DATE','DUE_DATE','INVOICE_CREATION_DATE'],axis=1)"
   ]
  },
  {
   "cell_type": "code",
   "execution_count": 13,
   "id": "da35e89f",
   "metadata": {},
   "outputs": [
    {
     "data": {
      "text/html": [
       "<div>\n",
       "<style scoped>\n",
       "    .dataframe tbody tr th:only-of-type {\n",
       "        vertical-align: middle;\n",
       "    }\n",
       "\n",
       "    .dataframe tbody tr th {\n",
       "        vertical-align: top;\n",
       "    }\n",
       "\n",
       "    .dataframe thead th {\n",
       "        text-align: right;\n",
       "    }\n",
       "</style>\n",
       "<table border=\"1\" class=\"dataframe\">\n",
       "  <thead>\n",
       "    <tr style=\"text-align: right;\">\n",
       "      <th></th>\n",
       "      <th>RECEIPT_METHOD</th>\n",
       "      <th>CUSTOMER_NAME</th>\n",
       "      <th>CUSTOMER_NUMBER</th>\n",
       "      <th>RECEIPT_DOC_NO</th>\n",
       "      <th>CLASS</th>\n",
       "      <th>CURRENCY_CODE</th>\n",
       "      <th>Local Amount</th>\n",
       "      <th>USD Amount</th>\n",
       "      <th>INVOICE_ALLOCATED</th>\n",
       "      <th>PAYMENT_TERM</th>\n",
       "      <th>INVOICE_CLASS</th>\n",
       "      <th>INVOICE_CURRENCY_CODE</th>\n",
       "      <th>INVOICE_TYPE</th>\n",
       "      <th>Customer Type</th>\n",
       "      <th>target</th>\n",
       "      <th>cbrt_USD_Amount</th>\n",
       "      <th>age</th>\n",
       "    </tr>\n",
       "  </thead>\n",
       "  <tbody>\n",
       "    <tr>\n",
       "      <th>0</th>\n",
       "      <td>WIRE</td>\n",
       "      <td>C EA Corp</td>\n",
       "      <td>37403</td>\n",
       "      <td>1.421000e+10</td>\n",
       "      <td>PMT</td>\n",
       "      <td>USD</td>\n",
       "      <td>370990.92</td>\n",
       "      <td>101018.63040</td>\n",
       "      <td>14200000001</td>\n",
       "      <td>30 Days from EOM</td>\n",
       "      <td>INV</td>\n",
       "      <td>AED</td>\n",
       "      <td>Non Goods</td>\n",
       "      <td>3rd Party</td>\n",
       "      <td>1</td>\n",
       "      <td>46.572958</td>\n",
       "      <td>-58</td>\n",
       "    </tr>\n",
       "    <tr>\n",
       "      <th>1</th>\n",
       "      <td>WIRE</td>\n",
       "      <td>RADW Corp</td>\n",
       "      <td>4003</td>\n",
       "      <td>9.921000e+10</td>\n",
       "      <td>PMT</td>\n",
       "      <td>SAR</td>\n",
       "      <td>183750.00</td>\n",
       "      <td>48990.21133</td>\n",
       "      <td>99200000043</td>\n",
       "      <td>30 Days from Inv Date</td>\n",
       "      <td>INV</td>\n",
       "      <td>SAR</td>\n",
       "      <td>Non Goods</td>\n",
       "      <td>Related Party</td>\n",
       "      <td>1</td>\n",
       "      <td>36.590620</td>\n",
       "      <td>-30</td>\n",
       "    </tr>\n",
       "    <tr>\n",
       "      <th>2</th>\n",
       "      <td>WIRE</td>\n",
       "      <td>RADW Corp</td>\n",
       "      <td>4003</td>\n",
       "      <td>9.921000e+10</td>\n",
       "      <td>PMT</td>\n",
       "      <td>SAR</td>\n",
       "      <td>157500.00</td>\n",
       "      <td>41991.60971</td>\n",
       "      <td>99210000003</td>\n",
       "      <td>30 Days from Inv Date</td>\n",
       "      <td>INV</td>\n",
       "      <td>SAR</td>\n",
       "      <td>Non Goods</td>\n",
       "      <td>Related Party</td>\n",
       "      <td>1</td>\n",
       "      <td>34.757952</td>\n",
       "      <td>-30</td>\n",
       "    </tr>\n",
       "    <tr>\n",
       "      <th>3</th>\n",
       "      <td>WIRE</td>\n",
       "      <td>FARO Corp</td>\n",
       "      <td>1409</td>\n",
       "      <td>9.921000e+10</td>\n",
       "      <td>PMT</td>\n",
       "      <td>SAR</td>\n",
       "      <td>157500.00</td>\n",
       "      <td>41991.60971</td>\n",
       "      <td>99200000038</td>\n",
       "      <td>30 Days from Inv Date</td>\n",
       "      <td>INV</td>\n",
       "      <td>SAR</td>\n",
       "      <td>Non Goods</td>\n",
       "      <td>Related Party</td>\n",
       "      <td>1</td>\n",
       "      <td>34.757952</td>\n",
       "      <td>-30</td>\n",
       "    </tr>\n",
       "    <tr>\n",
       "      <th>4</th>\n",
       "      <td>WIRE</td>\n",
       "      <td>RADW Corp</td>\n",
       "      <td>4003</td>\n",
       "      <td>9.921000e+10</td>\n",
       "      <td>PMT</td>\n",
       "      <td>SAR</td>\n",
       "      <td>157500.00</td>\n",
       "      <td>41991.60971</td>\n",
       "      <td>99200000039</td>\n",
       "      <td>30 Days from Inv Date</td>\n",
       "      <td>INV</td>\n",
       "      <td>SAR</td>\n",
       "      <td>Non Goods</td>\n",
       "      <td>Related Party</td>\n",
       "      <td>1</td>\n",
       "      <td>34.757952</td>\n",
       "      <td>-30</td>\n",
       "    </tr>\n",
       "  </tbody>\n",
       "</table>\n",
       "</div>"
      ],
      "text/plain": [
       "  RECEIPT_METHOD CUSTOMER_NAME  CUSTOMER_NUMBER  RECEIPT_DOC_NO CLASS  \\\n",
       "0           WIRE     C EA Corp            37403    1.421000e+10   PMT   \n",
       "1           WIRE     RADW Corp             4003    9.921000e+10   PMT   \n",
       "2           WIRE     RADW Corp             4003    9.921000e+10   PMT   \n",
       "3           WIRE     FARO Corp             1409    9.921000e+10   PMT   \n",
       "4           WIRE     RADW Corp             4003    9.921000e+10   PMT   \n",
       "\n",
       "  CURRENCY_CODE  Local Amount    USD Amount INVOICE_ALLOCATED  \\\n",
       "0           USD     370990.92  101018.63040       14200000001   \n",
       "1           SAR     183750.00   48990.21133       99200000043   \n",
       "2           SAR     157500.00   41991.60971       99210000003   \n",
       "3           SAR     157500.00   41991.60971       99200000038   \n",
       "4           SAR     157500.00   41991.60971       99200000039   \n",
       "\n",
       "            PAYMENT_TERM INVOICE_CLASS INVOICE_CURRENCY_CODE INVOICE_TYPE  \\\n",
       "0       30 Days from EOM           INV                   AED    Non Goods   \n",
       "1  30 Days from Inv Date           INV                   SAR    Non Goods   \n",
       "2  30 Days from Inv Date           INV                   SAR    Non Goods   \n",
       "3  30 Days from Inv Date           INV                   SAR    Non Goods   \n",
       "4  30 Days from Inv Date           INV                   SAR    Non Goods   \n",
       "\n",
       "   Customer Type  target  cbrt_USD_Amount  age  \n",
       "0      3rd Party       1        46.572958  -58  \n",
       "1  Related Party       1        36.590620  -30  \n",
       "2  Related Party       1        34.757952  -30  \n",
       "3  Related Party       1        34.757952  -30  \n",
       "4  Related Party       1        34.757952  -30  "
      ]
     },
     "execution_count": 13,
     "metadata": {},
     "output_type": "execute_result"
    }
   ],
   "source": [
    "train.head()"
   ]
  },
  {
   "cell_type": "code",
   "execution_count": 11,
   "id": "dba5f341",
   "metadata": {},
   "outputs": [],
   "source": [
    "#making all lower-case\n",
    "train = train.applymap(lambda s: s.lower() if type(s) == str else s)"
   ]
  },
  {
   "cell_type": "code",
   "execution_count": 12,
   "id": "15ba0362",
   "metadata": {},
   "outputs": [
    {
     "data": {
      "text/plain": [
       "Index(['RECEIPT_METHOD', 'CUSTOMER_NAME', 'CUSTOMER_NUMBER', 'RECEIPT_DOC_NO',\n",
       "       'CLASS', 'CURRENCY_CODE', 'Local Amount', 'USD Amount',\n",
       "       'INVOICE_ALLOCATED', 'PAYMENT_TERM', 'INVOICE_CLASS',\n",
       "       'INVOICE_CURRENCY_CODE', 'INVOICE_TYPE', 'Customer Type', 'target',\n",
       "       'cbrt_USD_Amount', 'age'],\n",
       "      dtype='object')"
      ]
     },
     "execution_count": 12,
     "metadata": {},
     "output_type": "execute_result"
    }
   ],
   "source": [
    "train.columns"
   ]
  },
  {
   "cell_type": "code",
   "execution_count": 13,
   "id": "bf7c3008",
   "metadata": {},
   "outputs": [],
   "source": [
    "#making the header name lower-case\n",
    "train.columns= train.columns.str.lower()"
   ]
  },
  {
   "cell_type": "code",
   "execution_count": 14,
   "id": "9279e570",
   "metadata": {},
   "outputs": [
    {
     "data": {
      "text/plain": [
       "Index(['receipt_method', 'customer_name', 'customer_number', 'receipt_doc_no',\n",
       "       'class', 'currency_code', 'local amount', 'usd amount',\n",
       "       'invoice_allocated', 'payment_term', 'invoice_class',\n",
       "       'invoice_currency_code', 'invoice_type', 'customer type', 'target',\n",
       "       'cbrt_usd_amount', 'age'],\n",
       "      dtype='object')"
      ]
     },
     "execution_count": 14,
     "metadata": {},
     "output_type": "execute_result"
    }
   ],
   "source": [
    "train.columns"
   ]
  },
  {
   "cell_type": "code",
   "execution_count": 18,
   "id": "9c1d8b73",
   "metadata": {},
   "outputs": [
    {
     "data": {
      "text/plain": [
       "receipt_method            0\n",
       "customer_name             0\n",
       "customer_number           0\n",
       "receipt_doc_no           29\n",
       "class                     0\n",
       "currency_code             0\n",
       "local amount              0\n",
       "usd amount                0\n",
       "invoice_allocated         0\n",
       "payment_term              0\n",
       "invoice_class             0\n",
       "invoice_currency_code     0\n",
       "invoice_type              0\n",
       "customer type             0\n",
       "target                    0\n",
       "cbrt_usd_amount           0\n",
       "age                       0\n",
       "dtype: int64"
      ]
     },
     "execution_count": 18,
     "metadata": {},
     "output_type": "execute_result"
    }
   ],
   "source": [
    "train.isnull().sum()"
   ]
  },
  {
   "cell_type": "code",
   "execution_count": 15,
   "id": "386d3cd1",
   "metadata": {},
   "outputs": [],
   "source": [
    "numeric_data = train.select_dtypes(include=[np.number])\n",
    "categorical_data = train.select_dtypes(exclude=[np.number])"
   ]
  },
  {
   "cell_type": "code",
   "execution_count": 16,
   "id": "70ed0532",
   "metadata": {},
   "outputs": [],
   "source": [
    "#dropping unnecessary numeric columns\n",
    "numeric_data = numeric_data.drop(['customer_number', 'receipt_doc_no', 'local amount', 'usd amount'],axis=1)"
   ]
  },
  {
   "cell_type": "code",
   "execution_count": 17,
   "id": "8c274f54",
   "metadata": {},
   "outputs": [
    {
     "data": {
      "text/plain": [
       "Index(['target', 'cbrt_usd_amount', 'age'], dtype='object')"
      ]
     },
     "execution_count": 17,
     "metadata": {},
     "output_type": "execute_result"
    }
   ],
   "source": [
    "numeric_data.columns"
   ]
  },
  {
   "cell_type": "code",
   "execution_count": 18,
   "id": "dd38b1d2",
   "metadata": {},
   "outputs": [
    {
     "data": {
      "text/plain": [
       "target             0\n",
       "cbrt_usd_amount    0\n",
       "age                0\n",
       "dtype: int64"
      ]
     },
     "execution_count": 18,
     "metadata": {},
     "output_type": "execute_result"
    }
   ],
   "source": [
    "numeric_data.isnull().sum()"
   ]
  },
  {
   "cell_type": "code",
   "execution_count": 19,
   "id": "0192eecd",
   "metadata": {},
   "outputs": [
    {
     "data": {
      "text/plain": [
       "Index(['receipt_method', 'customer_name', 'class', 'currency_code',\n",
       "       'invoice_allocated', 'payment_term', 'invoice_class',\n",
       "       'invoice_currency_code', 'invoice_type', 'customer type'],\n",
       "      dtype='object')"
      ]
     },
     "execution_count": 19,
     "metadata": {},
     "output_type": "execute_result"
    }
   ],
   "source": [
    "categorical_data.columns"
   ]
  },
  {
   "cell_type": "code",
   "execution_count": 20,
   "id": "bc18854c",
   "metadata": {},
   "outputs": [],
   "source": [
    "#dropping unnecessary categorical columns\n",
    "categorical_data = categorical_data.drop(['receipt_method', 'customer_name','invoice_allocated', 'currency_code', 'class'],axis=1)"
   ]
  },
  {
   "cell_type": "code",
   "execution_count": 21,
   "id": "fddf10de",
   "metadata": {},
   "outputs": [
    {
     "data": {
      "text/plain": [
       "Index(['payment_term', 'invoice_class', 'invoice_currency_code',\n",
       "       'invoice_type', 'customer type'],\n",
       "      dtype='object')"
      ]
     },
     "execution_count": 21,
     "metadata": {},
     "output_type": "execute_result"
    }
   ],
   "source": [
    "categorical_data.columns"
   ]
  },
  {
   "cell_type": "code",
   "execution_count": 22,
   "id": "07c9f2a4",
   "metadata": {},
   "outputs": [],
   "source": [
    "#dummy encoding\n",
    "encoded_cols = pd.get_dummies(train[categorical_data.columns], drop_first=True)"
   ]
  },
  {
   "cell_type": "code",
   "execution_count": 23,
   "id": "26425795",
   "metadata": {},
   "outputs": [],
   "source": [
    "data = pd.concat([numeric_data,encoded_cols], axis=1)"
   ]
  },
  {
   "cell_type": "code",
   "execution_count": 24,
   "id": "fa5c1ab9",
   "metadata": {},
   "outputs": [
    {
     "data": {
      "text/plain": [
       "(93937, 58)"
      ]
     },
     "execution_count": 24,
     "metadata": {},
     "output_type": "execute_result"
    }
   ],
   "source": [
    "data.shape"
   ]
  },
  {
   "cell_type": "code",
   "execution_count": 35,
   "id": "f87d33dc",
   "metadata": {},
   "outputs": [
    {
     "data": {
      "text/html": [
       "<div>\n",
       "<style scoped>\n",
       "    .dataframe tbody tr th:only-of-type {\n",
       "        vertical-align: middle;\n",
       "    }\n",
       "\n",
       "    .dataframe tbody tr th {\n",
       "        vertical-align: top;\n",
       "    }\n",
       "\n",
       "    .dataframe thead th {\n",
       "        text-align: right;\n",
       "    }\n",
       "</style>\n",
       "<table border=\"1\" class=\"dataframe\">\n",
       "  <thead>\n",
       "    <tr style=\"text-align: right;\">\n",
       "      <th></th>\n",
       "      <th>target</th>\n",
       "      <th>cbrt_usd_amount</th>\n",
       "      <th>age</th>\n",
       "      <th>payment_term_120 days from eom</th>\n",
       "      <th>payment_term_120 days from inv date</th>\n",
       "      <th>payment_term_15 days from eom</th>\n",
       "      <th>payment_term_15 days from inv date</th>\n",
       "      <th>payment_term_180 days from inv date</th>\n",
       "      <th>payment_term_195 days from invoice date</th>\n",
       "      <th>payment_term_25 days from eom</th>\n",
       "      <th>...</th>\n",
       "      <th>invoice_currency_code_gbp</th>\n",
       "      <th>invoice_currency_code_jod</th>\n",
       "      <th>invoice_currency_code_kwd</th>\n",
       "      <th>invoice_currency_code_qar</th>\n",
       "      <th>invoice_currency_code_sar</th>\n",
       "      <th>invoice_currency_code_usd</th>\n",
       "      <th>invoice_currency_code_zar</th>\n",
       "      <th>invoice_type_non goods</th>\n",
       "      <th>customer type_related party</th>\n",
       "      <th>customer type_unidentified receipts</th>\n",
       "    </tr>\n",
       "  </thead>\n",
       "  <tbody>\n",
       "    <tr>\n",
       "      <th>92245</th>\n",
       "      <td>1</td>\n",
       "      <td>74.595393</td>\n",
       "      <td>0</td>\n",
       "      <td>0</td>\n",
       "      <td>0</td>\n",
       "      <td>0</td>\n",
       "      <td>0</td>\n",
       "      <td>0</td>\n",
       "      <td>0</td>\n",
       "      <td>0</td>\n",
       "      <td>...</td>\n",
       "      <td>0</td>\n",
       "      <td>0</td>\n",
       "      <td>1</td>\n",
       "      <td>0</td>\n",
       "      <td>0</td>\n",
       "      <td>0</td>\n",
       "      <td>0</td>\n",
       "      <td>0</td>\n",
       "      <td>0</td>\n",
       "      <td>0</td>\n",
       "    </tr>\n",
       "    <tr>\n",
       "      <th>80082</th>\n",
       "      <td>1</td>\n",
       "      <td>18.857031</td>\n",
       "      <td>-45</td>\n",
       "      <td>0</td>\n",
       "      <td>0</td>\n",
       "      <td>0</td>\n",
       "      <td>0</td>\n",
       "      <td>0</td>\n",
       "      <td>0</td>\n",
       "      <td>0</td>\n",
       "      <td>...</td>\n",
       "      <td>0</td>\n",
       "      <td>0</td>\n",
       "      <td>0</td>\n",
       "      <td>0</td>\n",
       "      <td>1</td>\n",
       "      <td>0</td>\n",
       "      <td>0</td>\n",
       "      <td>0</td>\n",
       "      <td>1</td>\n",
       "      <td>0</td>\n",
       "    </tr>\n",
       "    <tr>\n",
       "      <th>84411</th>\n",
       "      <td>1</td>\n",
       "      <td>97.254913</td>\n",
       "      <td>-60</td>\n",
       "      <td>0</td>\n",
       "      <td>0</td>\n",
       "      <td>0</td>\n",
       "      <td>0</td>\n",
       "      <td>0</td>\n",
       "      <td>0</td>\n",
       "      <td>0</td>\n",
       "      <td>...</td>\n",
       "      <td>0</td>\n",
       "      <td>0</td>\n",
       "      <td>0</td>\n",
       "      <td>0</td>\n",
       "      <td>1</td>\n",
       "      <td>0</td>\n",
       "      <td>0</td>\n",
       "      <td>0</td>\n",
       "      <td>0</td>\n",
       "      <td>0</td>\n",
       "    </tr>\n",
       "    <tr>\n",
       "      <th>27389</th>\n",
       "      <td>1</td>\n",
       "      <td>81.932127</td>\n",
       "      <td>-30</td>\n",
       "      <td>0</td>\n",
       "      <td>0</td>\n",
       "      <td>0</td>\n",
       "      <td>0</td>\n",
       "      <td>0</td>\n",
       "      <td>0</td>\n",
       "      <td>0</td>\n",
       "      <td>...</td>\n",
       "      <td>0</td>\n",
       "      <td>0</td>\n",
       "      <td>0</td>\n",
       "      <td>0</td>\n",
       "      <td>0</td>\n",
       "      <td>1</td>\n",
       "      <td>0</td>\n",
       "      <td>0</td>\n",
       "      <td>0</td>\n",
       "      <td>0</td>\n",
       "    </tr>\n",
       "    <tr>\n",
       "      <th>23754</th>\n",
       "      <td>1</td>\n",
       "      <td>128.091026</td>\n",
       "      <td>-78</td>\n",
       "      <td>0</td>\n",
       "      <td>0</td>\n",
       "      <td>0</td>\n",
       "      <td>0</td>\n",
       "      <td>0</td>\n",
       "      <td>0</td>\n",
       "      <td>0</td>\n",
       "      <td>...</td>\n",
       "      <td>0</td>\n",
       "      <td>0</td>\n",
       "      <td>0</td>\n",
       "      <td>0</td>\n",
       "      <td>0</td>\n",
       "      <td>0</td>\n",
       "      <td>0</td>\n",
       "      <td>0</td>\n",
       "      <td>1</td>\n",
       "      <td>0</td>\n",
       "    </tr>\n",
       "  </tbody>\n",
       "</table>\n",
       "<p>5 rows × 58 columns</p>\n",
       "</div>"
      ],
      "text/plain": [
       "       target  cbrt_usd_amount  age  payment_term_120 days from eom  \\\n",
       "92245       1        74.595393    0                               0   \n",
       "80082       1        18.857031  -45                               0   \n",
       "84411       1        97.254913  -60                               0   \n",
       "27389       1        81.932127  -30                               0   \n",
       "23754       1       128.091026  -78                               0   \n",
       "\n",
       "       payment_term_120 days from inv date  payment_term_15 days from eom  \\\n",
       "92245                                    0                              0   \n",
       "80082                                    0                              0   \n",
       "84411                                    0                              0   \n",
       "27389                                    0                              0   \n",
       "23754                                    0                              0   \n",
       "\n",
       "       payment_term_15 days from inv date  \\\n",
       "92245                                   0   \n",
       "80082                                   0   \n",
       "84411                                   0   \n",
       "27389                                   0   \n",
       "23754                                   0   \n",
       "\n",
       "       payment_term_180 days from inv date  \\\n",
       "92245                                    0   \n",
       "80082                                    0   \n",
       "84411                                    0   \n",
       "27389                                    0   \n",
       "23754                                    0   \n",
       "\n",
       "       payment_term_195 days from invoice date  payment_term_25 days from eom  \\\n",
       "92245                                        0                              0   \n",
       "80082                                        0                              0   \n",
       "84411                                        0                              0   \n",
       "27389                                        0                              0   \n",
       "23754                                        0                              0   \n",
       "\n",
       "       ...  invoice_currency_code_gbp  invoice_currency_code_jod  \\\n",
       "92245  ...                          0                          0   \n",
       "80082  ...                          0                          0   \n",
       "84411  ...                          0                          0   \n",
       "27389  ...                          0                          0   \n",
       "23754  ...                          0                          0   \n",
       "\n",
       "       invoice_currency_code_kwd  invoice_currency_code_qar  \\\n",
       "92245                          1                          0   \n",
       "80082                          0                          0   \n",
       "84411                          0                          0   \n",
       "27389                          0                          0   \n",
       "23754                          0                          0   \n",
       "\n",
       "       invoice_currency_code_sar  invoice_currency_code_usd  \\\n",
       "92245                          0                          0   \n",
       "80082                          1                          0   \n",
       "84411                          1                          0   \n",
       "27389                          0                          1   \n",
       "23754                          0                          0   \n",
       "\n",
       "       invoice_currency_code_zar  invoice_type_non goods  \\\n",
       "92245                          0                       0   \n",
       "80082                          0                       0   \n",
       "84411                          0                       0   \n",
       "27389                          0                       0   \n",
       "23754                          0                       0   \n",
       "\n",
       "       customer type_related party  customer type_unidentified receipts  \n",
       "92245                            0                                    0  \n",
       "80082                            1                                    0  \n",
       "84411                            0                                    0  \n",
       "27389                            0                                    0  \n",
       "23754                            1                                    0  \n",
       "\n",
       "[5 rows x 58 columns]"
      ]
     },
     "execution_count": 35,
     "metadata": {},
     "output_type": "execute_result"
    }
   ],
   "source": [
    "data.sample(5)"
   ]
  },
  {
   "cell_type": "code",
   "execution_count": 32,
   "id": "61c575eb",
   "metadata": {},
   "outputs": [
    {
     "data": {
      "text/plain": [
       "(93937, 58)"
      ]
     },
     "execution_count": 32,
     "metadata": {},
     "output_type": "execute_result"
    }
   ],
   "source": [
    "data.shape"
   ]
  },
  {
   "cell_type": "markdown",
   "id": "c039fb33",
   "metadata": {},
   "source": [
    "**train-test split**"
   ]
  },
  {
   "cell_type": "code",
   "execution_count": 31,
   "id": "7d58e763",
   "metadata": {},
   "outputs": [],
   "source": [
    "from sklearn.model_selection import train_test_split\n",
    "X = data.drop(['target'],axis=1)\n",
    "y = data[['target']]"
   ]
  },
  {
   "cell_type": "code",
   "execution_count": 37,
   "id": "f457a959",
   "metadata": {},
   "outputs": [],
   "source": [
    "X_train, X_test, y_train, y_test = train_test_split(X, y, train_size = 0.7, test_size = 0.3, random_state = 100)"
   ]
  },
  {
   "cell_type": "code",
   "execution_count": 38,
   "id": "2acf424f",
   "metadata": {},
   "outputs": [],
   "source": [
    "#apply standard scaler\n",
    "from sklearn.preprocessing import StandardScaler\n",
    "scaler = StandardScaler()"
   ]
  },
  {
   "cell_type": "code",
   "execution_count": 39,
   "id": "d9c4ebcc",
   "metadata": {},
   "outputs": [],
   "source": [
    "num_vars = ['cbrt_usd_amount','age']"
   ]
  },
  {
   "cell_type": "code",
   "execution_count": 40,
   "id": "1a988b00",
   "metadata": {},
   "outputs": [],
   "source": [
    "data[num_vars] = scaler.fit_transform(data[num_vars])"
   ]
  },
  {
   "cell_type": "code",
   "execution_count": 41,
   "id": "dee5c43e",
   "metadata": {},
   "outputs": [],
   "source": [
    "scaler.fit(X_train[['cbrt_usd_amount','age']])\n",
    "X_train[['cbrt_usd_amount','age']] = scaler.transform(X_train[['cbrt_usd_amount','age']])"
   ]
  },
  {
   "cell_type": "code",
   "execution_count": 42,
   "id": "2546904f",
   "metadata": {},
   "outputs": [],
   "source": [
    "X_test[['cbrt_usd_amount','age']] = scaler.transform(X_test[['cbrt_usd_amount','age']])"
   ]
  },
  {
   "cell_type": "markdown",
   "id": "652af089",
   "metadata": {},
   "source": [
    "**model building**"
   ]
  },
  {
   "cell_type": "code",
   "execution_count": 33,
   "id": "03d19d60",
   "metadata": {},
   "outputs": [
    {
     "data": {
      "text/html": [
       "<table class=\"simpletable\">\n",
       "<caption>Generalized Linear Model Regression Results</caption>\n",
       "<tr>\n",
       "  <th>Dep. Variable:</th>        <td>target</td>      <th>  No. Observations:  </th>   <td> 65755</td>  \n",
       "</tr>\n",
       "<tr>\n",
       "  <th>Model:</th>                  <td>GLM</td>       <th>  Df Residuals:      </th>   <td> 65700</td>  \n",
       "</tr>\n",
       "<tr>\n",
       "  <th>Model Family:</th>        <td>Binomial</td>     <th>  Df Model:          </th>   <td>    54</td>  \n",
       "</tr>\n",
       "<tr>\n",
       "  <th>Link Function:</th>         <td>Logit</td>      <th>  Scale:             </th>  <td>  1.0000</td> \n",
       "</tr>\n",
       "<tr>\n",
       "  <th>Method:</th>                <td>IRLS</td>       <th>  Log-Likelihood:    </th>  <td>     nan</td> \n",
       "</tr>\n",
       "<tr>\n",
       "  <th>Date:</th>            <td>Sun, 22 Jan 2023</td> <th>  Deviance:          </th> <td>1.6026e+05</td>\n",
       "</tr>\n",
       "<tr>\n",
       "  <th>Time:</th>                <td>00:05:53</td>     <th>  Pearson chi2:      </th>  <td>7.84e+18</td> \n",
       "</tr>\n",
       "<tr>\n",
       "  <th>No. Iterations:</th>         <td>100</td>       <th>  Pseudo R-squ. (CS):</th>   <td>   nan</td>  \n",
       "</tr>\n",
       "<tr>\n",
       "  <th>Covariance Type:</th>     <td>nonrobust</td>    <th>                     </th>      <td> </td>    \n",
       "</tr>\n",
       "</table>\n",
       "<table class=\"simpletable\">\n",
       "<tr>\n",
       "                                    <td></td>                                      <th>coef</th>     <th>std err</th>      <th>z</th>      <th>P>|z|</th>  <th>[0.025</th>    <th>0.975]</th>  \n",
       "</tr>\n",
       "<tr>\n",
       "  <th>const</th>                                                                <td> 1.964e+15</td> <td> 1.62e+06</td> <td> 1.22e+09</td> <td> 0.000</td> <td> 1.96e+15</td> <td> 1.96e+15</td>\n",
       "</tr>\n",
       "<tr>\n",
       "  <th>cbrt_usd_amount</th>                                                      <td> 4.924e+13</td> <td> 3.09e+05</td> <td> 1.59e+08</td> <td> 0.000</td> <td> 4.92e+13</td> <td> 4.92e+13</td>\n",
       "</tr>\n",
       "<tr>\n",
       "  <th>age</th>                                                                  <td>-1.478e+15</td> <td> 3.03e+05</td> <td>-4.87e+09</td> <td> 0.000</td> <td>-1.48e+15</td> <td>-1.48e+15</td>\n",
       "</tr>\n",
       "<tr>\n",
       "  <th>payment_term_120 days from eom</th>                                       <td>-3.202e+15</td> <td> 6.72e+07</td> <td>-4.77e+07</td> <td> 0.000</td> <td> -3.2e+15</td> <td> -3.2e+15</td>\n",
       "</tr>\n",
       "<tr>\n",
       "  <th>payment_term_120 days from inv date</th>                                  <td>-1.451e+14</td> <td> 7.67e+06</td> <td>-1.89e+07</td> <td> 0.000</td> <td>-1.45e+14</td> <td>-1.45e+14</td>\n",
       "</tr>\n",
       "<tr>\n",
       "  <th>payment_term_15 days from eom</th>                                        <td>-2.092e+14</td> <td> 2.55e+06</td> <td>-8.22e+07</td> <td> 0.000</td> <td>-2.09e+14</td> <td>-2.09e+14</td>\n",
       "</tr>\n",
       "<tr>\n",
       "  <th>payment_term_15 days from inv date</th>                                   <td> 2.697e+15</td> <td> 4.85e+06</td> <td> 5.57e+08</td> <td> 0.000</td> <td>  2.7e+15</td> <td>  2.7e+15</td>\n",
       "</tr>\n",
       "<tr>\n",
       "  <th>payment_term_180 days from inv date</th>                                  <td>    5.0967</td> <td> 3.03e-07</td> <td> 1.68e+07</td> <td> 0.000</td> <td>    5.097</td> <td>    5.097</td>\n",
       "</tr>\n",
       "<tr>\n",
       "  <th>payment_term_195 days from invoice date</th>                              <td>-9.918e+14</td> <td> 9.06e+06</td> <td>-1.09e+08</td> <td> 0.000</td> <td>-9.92e+14</td> <td>-9.92e+14</td>\n",
       "</tr>\n",
       "<tr>\n",
       "  <th>payment_term_25 days from eom</th>                                        <td> 2.744e+15</td> <td> 4.43e+06</td> <td>  6.2e+08</td> <td> 0.000</td> <td> 2.74e+15</td> <td> 2.74e+15</td>\n",
       "</tr>\n",
       "<tr>\n",
       "  <th>payment_term_25% advance, 75% 30 days from invoice date</th>              <td>  2.09e+15</td> <td> 3.36e+07</td> <td> 6.21e+07</td> <td> 0.000</td> <td> 2.09e+15</td> <td> 2.09e+15</td>\n",
       "</tr>\n",
       "<tr>\n",
       "  <th>payment_term_30 days from eom</th>                                        <td> 2.414e+15</td> <td> 2.47e+06</td> <td> 9.78e+08</td> <td> 0.000</td> <td> 2.41e+15</td> <td> 2.41e+15</td>\n",
       "</tr>\n",
       "<tr>\n",
       "  <th>payment_term_30 days from inv date</th>                                   <td> 2.774e+15</td> <td> 2.41e+06</td> <td> 1.15e+09</td> <td> 0.000</td> <td> 2.77e+15</td> <td> 2.77e+15</td>\n",
       "</tr>\n",
       "<tr>\n",
       "  <th>payment_term_30% advance 70% after 30 days from invoice date</th>         <td> 2.391e+15</td> <td> 3.37e+07</td> <td>  7.1e+07</td> <td> 0.000</td> <td> 2.39e+15</td> <td> 2.39e+15</td>\n",
       "</tr>\n",
       "<tr>\n",
       "  <th>payment_term_30% advance 70% after 60 days from invoice date</th>         <td> 1.344e+15</td> <td> 2.39e+07</td> <td> 5.63e+07</td> <td> 0.000</td> <td> 1.34e+15</td> <td> 1.34e+15</td>\n",
       "</tr>\n",
       "<tr>\n",
       "  <th>payment_term_365 days from invoice date</th>                              <td>-5.915e+15</td> <td> 3.37e+07</td> <td>-1.76e+08</td> <td> 0.000</td> <td>-5.91e+15</td> <td>-5.91e+15</td>\n",
       "</tr>\n",
       "<tr>\n",
       "  <th>payment_term_40 days from eom</th>                                        <td> 2.418e+15</td> <td> 6.72e+07</td> <td>  3.6e+07</td> <td> 0.000</td> <td> 2.42e+15</td> <td> 2.42e+15</td>\n",
       "</tr>\n",
       "<tr>\n",
       "  <th>payment_term_45 days + eom</th>                                           <td> 2.173e+15</td> <td>    5e+06</td> <td> 4.34e+08</td> <td> 0.000</td> <td> 2.17e+15</td> <td> 2.17e+15</td>\n",
       "</tr>\n",
       "<tr>\n",
       "  <th>payment_term_45 days from eom</th>                                        <td> 2.121e+15</td> <td> 2.73e+06</td> <td> 7.76e+08</td> <td> 0.000</td> <td> 2.12e+15</td> <td> 2.12e+15</td>\n",
       "</tr>\n",
       "<tr>\n",
       "  <th>payment_term_45 days from inv date</th>                                   <td> 2.322e+15</td> <td> 2.71e+06</td> <td> 8.56e+08</td> <td> 0.000</td> <td> 2.32e+15</td> <td> 2.32e+15</td>\n",
       "</tr>\n",
       "<tr>\n",
       "  <th>payment_term_50% adv 50% 30 days</th>                                     <td> 2.187e+15</td> <td> 1.19e+07</td> <td> 1.84e+08</td> <td> 0.000</td> <td> 2.19e+15</td> <td> 2.19e+15</td>\n",
       "</tr>\n",
       "<tr>\n",
       "  <th>payment_term_50% advance 50% invdate+60 days</th>                         <td> 1.497e+15</td> <td> 8.14e+06</td> <td> 1.84e+08</td> <td> 0.000</td> <td>  1.5e+15</td> <td>  1.5e+15</td>\n",
       "</tr>\n",
       "<tr>\n",
       "  <th>payment_term_50% advance payment and 50% upon receiving the shipment</th> <td>  3.31e+15</td> <td> 3.01e+07</td> <td>  1.1e+08</td> <td> 0.000</td> <td> 3.31e+15</td> <td> 3.31e+15</td>\n",
       "</tr>\n",
       "<tr>\n",
       "  <th>payment_term_50% at 30 days and 50% at 60 days</th>                       <td> 1.397e+15</td> <td> 4.75e+07</td> <td> 2.94e+07</td> <td> 0.000</td> <td>  1.4e+15</td> <td>  1.4e+15</td>\n",
       "</tr>\n",
       "<tr>\n",
       "  <th>payment_term_60 days from eom</th>                                        <td> 1.477e+15</td> <td> 2.48e+06</td> <td> 5.95e+08</td> <td> 0.000</td> <td> 1.48e+15</td> <td> 1.48e+15</td>\n",
       "</tr>\n",
       "<tr>\n",
       "  <th>payment_term_60 days from inv date</th>                                   <td> 1.998e+15</td> <td> 2.41e+06</td> <td> 8.29e+08</td> <td> 0.000</td> <td>    2e+15</td> <td>    2e+15</td>\n",
       "</tr>\n",
       "<tr>\n",
       "  <th>payment_term_7 days from eom</th>                                         <td>  3.08e+15</td> <td> 6.72e+07</td> <td> 4.59e+07</td> <td> 0.000</td> <td> 3.08e+15</td> <td> 3.08e+15</td>\n",
       "</tr>\n",
       "<tr>\n",
       "  <th>payment_term_7 days from inv date</th>                                    <td>-3.909e+14</td> <td> 1.27e+07</td> <td>-3.08e+07</td> <td> 0.000</td> <td>-3.91e+14</td> <td>-3.91e+14</td>\n",
       "</tr>\n",
       "<tr>\n",
       "  <th>payment_term_75 days from eom</th>                                        <td>  9.24e+14</td> <td> 6.21e+06</td> <td> 1.49e+08</td> <td> 0.000</td> <td> 9.24e+14</td> <td> 9.24e+14</td>\n",
       "</tr>\n",
       "<tr>\n",
       "  <th>payment_term_75 days from inv date</th>                                   <td> 1.739e+15</td> <td> 1.07e+07</td> <td> 1.62e+08</td> <td> 0.000</td> <td> 1.74e+15</td> <td> 1.74e+15</td>\n",
       "</tr>\n",
       "<tr>\n",
       "  <th>payment_term_90 days from eom</th>                                        <td>-1.236e+15</td> <td> 2.74e+06</td> <td> -4.5e+08</td> <td> 0.000</td> <td>-1.24e+15</td> <td>-1.24e+15</td>\n",
       "</tr>\n",
       "<tr>\n",
       "  <th>payment_term_90 days from inv date</th>                                   <td> 1.141e+15</td> <td>  2.9e+06</td> <td> 3.93e+08</td> <td> 0.000</td> <td> 1.14e+15</td> <td> 1.14e+15</td>\n",
       "</tr>\n",
       "<tr>\n",
       "  <th>payment_term_advance with discount</th>                                   <td> 2.514e+15</td> <td> 6.72e+07</td> <td> 3.74e+07</td> <td> 0.000</td> <td> 2.51e+15</td> <td> 2.51e+15</td>\n",
       "</tr>\n",
       "<tr>\n",
       "  <th>payment_term_cash against document at sight</th>                          <td> 1.795e+15</td> <td> 3.94e+07</td> <td> 4.55e+07</td> <td> 0.000</td> <td> 1.79e+15</td> <td> 1.79e+15</td>\n",
       "</tr>\n",
       "<tr>\n",
       "  <th>payment_term_cash on delivery</th>                                        <td> 2.667e+14</td> <td>  4.6e+06</td> <td>  5.8e+07</td> <td> 0.000</td> <td> 2.67e+14</td> <td> 2.67e+14</td>\n",
       "</tr>\n",
       "<tr>\n",
       "  <th>payment_term_eom</th>                                                     <td>  4.24e+13</td> <td> 5.72e+06</td> <td> 7.41e+06</td> <td> 0.000</td> <td> 4.24e+13</td> <td> 4.24e+13</td>\n",
       "</tr>\n",
       "<tr>\n",
       "  <th>payment_term_immediate</th>                                               <td>-4.886e+13</td> <td> 1.69e+06</td> <td>-2.88e+07</td> <td> 0.000</td> <td>-4.89e+13</td> <td>-4.89e+13</td>\n",
       "</tr>\n",
       "<tr>\n",
       "  <th>payment_term_immediate payment</th>                                       <td> 1.645e+14</td> <td> 2.58e+06</td> <td> 6.38e+07</td> <td> 0.000</td> <td> 1.65e+14</td> <td> 1.65e+14</td>\n",
       "</tr>\n",
       "<tr>\n",
       "  <th>payment_term_lc at 60 days</th>                                           <td> 1.311e+15</td> <td> 7.73e+06</td> <td>  1.7e+08</td> <td> 0.000</td> <td> 1.31e+15</td> <td> 1.31e+15</td>\n",
       "</tr>\n",
       "<tr>\n",
       "  <th>payment_term_lc at 60 days from fcr/awb/bl date</th>                      <td>  1.22e+15</td> <td> 1.81e+07</td> <td> 6.74e+07</td> <td> 0.000</td> <td> 1.22e+15</td> <td> 1.22e+15</td>\n",
       "</tr>\n",
       "<tr>\n",
       "  <th>payment_term_lc at 90 days</th>                                           <td> 8.137e+14</td> <td> 1.43e+07</td> <td> 5.69e+07</td> <td> 0.000</td> <td> 8.14e+14</td> <td> 8.14e+14</td>\n",
       "</tr>\n",
       "<tr>\n",
       "  <th>payment_term_lcsight</th>                                                 <td>  3.22e+15</td> <td> 1.52e+07</td> <td> 2.12e+08</td> <td> 0.000</td> <td> 3.22e+15</td> <td> 3.22e+15</td>\n",
       "</tr>\n",
       "<tr>\n",
       "  <th>payment_term_on consignment</th>                                          <td>-1.623e+14</td> <td>  5.4e+06</td> <td>-3.01e+07</td> <td> 0.000</td> <td>-1.62e+14</td> <td>-1.62e+14</td>\n",
       "</tr>\n",
       "<tr>\n",
       "  <th>payment_term_standby lc at 30 days</th>                                   <td> 2.442e+15</td> <td> 6.72e+07</td> <td> 3.63e+07</td> <td> 0.000</td> <td> 2.44e+15</td> <td> 2.44e+15</td>\n",
       "</tr>\n",
       "<tr>\n",
       "  <th>invoice_class_dm</th>                                                     <td> 1.795e+15</td> <td> 3.05e+06</td> <td> 5.88e+08</td> <td> 0.000</td> <td> 1.79e+15</td> <td> 1.79e+15</td>\n",
       "</tr>\n",
       "<tr>\n",
       "  <th>invoice_class_inv</th>                                                    <td>  2.18e+14</td> <td> 1.51e+06</td> <td> 1.45e+08</td> <td> 0.000</td> <td> 2.18e+14</td> <td> 2.18e+14</td>\n",
       "</tr>\n",
       "<tr>\n",
       "  <th>invoice_currency_code_bhd</th>                                            <td>-6.992e+14</td> <td> 4.18e+06</td> <td>-1.67e+08</td> <td> 0.000</td> <td>-6.99e+14</td> <td>-6.99e+14</td>\n",
       "</tr>\n",
       "<tr>\n",
       "  <th>invoice_currency_code_eur</th>                                            <td> 7.316e+14</td> <td> 2.26e+06</td> <td> 3.23e+08</td> <td> 0.000</td> <td> 7.32e+14</td> <td> 7.32e+14</td>\n",
       "</tr>\n",
       "<tr>\n",
       "  <th>invoice_currency_code_gbp</th>                                            <td> 1.921e+15</td> <td> 7.04e+06</td> <td> 2.73e+08</td> <td> 0.000</td> <td> 1.92e+15</td> <td> 1.92e+15</td>\n",
       "</tr>\n",
       "<tr>\n",
       "  <th>invoice_currency_code_jod</th>                                            <td> 6.346e+14</td> <td> 1.32e+07</td> <td> 4.81e+07</td> <td> 0.000</td> <td> 6.35e+14</td> <td> 6.35e+14</td>\n",
       "</tr>\n",
       "<tr>\n",
       "  <th>invoice_currency_code_kwd</th>                                            <td>-3.497e+14</td> <td> 2.51e+06</td> <td>-1.39e+08</td> <td> 0.000</td> <td> -3.5e+14</td> <td> -3.5e+14</td>\n",
       "</tr>\n",
       "<tr>\n",
       "  <th>invoice_currency_code_qar</th>                                            <td>-7.926e+14</td> <td> 3.37e+06</td> <td>-2.35e+08</td> <td> 0.000</td> <td>-7.93e+14</td> <td>-7.93e+14</td>\n",
       "</tr>\n",
       "<tr>\n",
       "  <th>invoice_currency_code_sar</th>                                            <td>-4.973e+14</td> <td> 7.37e+05</td> <td>-6.75e+08</td> <td> 0.000</td> <td>-4.97e+14</td> <td>-4.97e+14</td>\n",
       "</tr>\n",
       "<tr>\n",
       "  <th>invoice_currency_code_usd</th>                                            <td>  3.47e+14</td> <td> 8.17e+05</td> <td> 4.24e+08</td> <td> 0.000</td> <td> 3.47e+14</td> <td> 3.47e+14</td>\n",
       "</tr>\n",
       "<tr>\n",
       "  <th>invoice_currency_code_zar</th>                                            <td>-9.918e+14</td> <td> 9.06e+06</td> <td>-1.09e+08</td> <td> 0.000</td> <td>-9.92e+14</td> <td>-9.92e+14</td>\n",
       "</tr>\n",
       "<tr>\n",
       "  <th>invoice_type_non goods</th>                                               <td>-7.244e+14</td> <td> 8.27e+05</td> <td>-8.76e+08</td> <td> 0.000</td> <td>-7.24e+14</td> <td>-7.24e+14</td>\n",
       "</tr>\n",
       "<tr>\n",
       "  <th>customer type_related party</th>                                          <td> 7.687e+13</td> <td> 5.48e+05</td> <td>  1.4e+08</td> <td> 0.000</td> <td> 7.69e+13</td> <td> 7.69e+13</td>\n",
       "</tr>\n",
       "<tr>\n",
       "  <th>customer type_unidentified receipts</th>                                  <td> 1.643e+14</td> <td> 3.88e+07</td> <td> 4.24e+06</td> <td> 0.000</td> <td> 1.64e+14</td> <td> 1.64e+14</td>\n",
       "</tr>\n",
       "</table>"
      ],
      "text/plain": [
       "<class 'statsmodels.iolib.summary.Summary'>\n",
       "\"\"\"\n",
       "                 Generalized Linear Model Regression Results                  \n",
       "==============================================================================\n",
       "Dep. Variable:                 target   No. Observations:                65755\n",
       "Model:                            GLM   Df Residuals:                    65700\n",
       "Model Family:                Binomial   Df Model:                           54\n",
       "Link Function:                  Logit   Scale:                          1.0000\n",
       "Method:                          IRLS   Log-Likelihood:                    nan\n",
       "Date:                Sun, 22 Jan 2023   Deviance:                   1.6026e+05\n",
       "Time:                        00:05:53   Pearson chi2:                 7.84e+18\n",
       "No. Iterations:                   100   Pseudo R-squ. (CS):                nan\n",
       "Covariance Type:            nonrobust                                         \n",
       "========================================================================================================================================\n",
       "                                                                           coef    std err          z      P>|z|      [0.025      0.975]\n",
       "----------------------------------------------------------------------------------------------------------------------------------------\n",
       "const                                                                 1.964e+15   1.62e+06   1.22e+09      0.000    1.96e+15    1.96e+15\n",
       "cbrt_usd_amount                                                       4.924e+13   3.09e+05   1.59e+08      0.000    4.92e+13    4.92e+13\n",
       "age                                                                  -1.478e+15   3.03e+05  -4.87e+09      0.000   -1.48e+15   -1.48e+15\n",
       "payment_term_120 days from eom                                       -3.202e+15   6.72e+07  -4.77e+07      0.000    -3.2e+15    -3.2e+15\n",
       "payment_term_120 days from inv date                                  -1.451e+14   7.67e+06  -1.89e+07      0.000   -1.45e+14   -1.45e+14\n",
       "payment_term_15 days from eom                                        -2.092e+14   2.55e+06  -8.22e+07      0.000   -2.09e+14   -2.09e+14\n",
       "payment_term_15 days from inv date                                    2.697e+15   4.85e+06   5.57e+08      0.000     2.7e+15     2.7e+15\n",
       "payment_term_180 days from inv date                                      5.0967   3.03e-07   1.68e+07      0.000       5.097       5.097\n",
       "payment_term_195 days from invoice date                              -9.918e+14   9.06e+06  -1.09e+08      0.000   -9.92e+14   -9.92e+14\n",
       "payment_term_25 days from eom                                         2.744e+15   4.43e+06    6.2e+08      0.000    2.74e+15    2.74e+15\n",
       "payment_term_25% advance, 75% 30 days from invoice date                2.09e+15   3.36e+07   6.21e+07      0.000    2.09e+15    2.09e+15\n",
       "payment_term_30 days from eom                                         2.414e+15   2.47e+06   9.78e+08      0.000    2.41e+15    2.41e+15\n",
       "payment_term_30 days from inv date                                    2.774e+15   2.41e+06   1.15e+09      0.000    2.77e+15    2.77e+15\n",
       "payment_term_30% advance 70% after 30 days from invoice date          2.391e+15   3.37e+07    7.1e+07      0.000    2.39e+15    2.39e+15\n",
       "payment_term_30% advance 70% after 60 days from invoice date          1.344e+15   2.39e+07   5.63e+07      0.000    1.34e+15    1.34e+15\n",
       "payment_term_365 days from invoice date                              -5.915e+15   3.37e+07  -1.76e+08      0.000   -5.91e+15   -5.91e+15\n",
       "payment_term_40 days from eom                                         2.418e+15   6.72e+07    3.6e+07      0.000    2.42e+15    2.42e+15\n",
       "payment_term_45 days + eom                                            2.173e+15      5e+06   4.34e+08      0.000    2.17e+15    2.17e+15\n",
       "payment_term_45 days from eom                                         2.121e+15   2.73e+06   7.76e+08      0.000    2.12e+15    2.12e+15\n",
       "payment_term_45 days from inv date                                    2.322e+15   2.71e+06   8.56e+08      0.000    2.32e+15    2.32e+15\n",
       "payment_term_50% adv 50% 30 days                                      2.187e+15   1.19e+07   1.84e+08      0.000    2.19e+15    2.19e+15\n",
       "payment_term_50% advance 50% invdate+60 days                          1.497e+15   8.14e+06   1.84e+08      0.000     1.5e+15     1.5e+15\n",
       "payment_term_50% advance payment and 50% upon receiving the shipment   3.31e+15   3.01e+07    1.1e+08      0.000    3.31e+15    3.31e+15\n",
       "payment_term_50% at 30 days and 50% at 60 days                        1.397e+15   4.75e+07   2.94e+07      0.000     1.4e+15     1.4e+15\n",
       "payment_term_60 days from eom                                         1.477e+15   2.48e+06   5.95e+08      0.000    1.48e+15    1.48e+15\n",
       "payment_term_60 days from inv date                                    1.998e+15   2.41e+06   8.29e+08      0.000       2e+15       2e+15\n",
       "payment_term_7 days from eom                                           3.08e+15   6.72e+07   4.59e+07      0.000    3.08e+15    3.08e+15\n",
       "payment_term_7 days from inv date                                    -3.909e+14   1.27e+07  -3.08e+07      0.000   -3.91e+14   -3.91e+14\n",
       "payment_term_75 days from eom                                          9.24e+14   6.21e+06   1.49e+08      0.000    9.24e+14    9.24e+14\n",
       "payment_term_75 days from inv date                                    1.739e+15   1.07e+07   1.62e+08      0.000    1.74e+15    1.74e+15\n",
       "payment_term_90 days from eom                                        -1.236e+15   2.74e+06   -4.5e+08      0.000   -1.24e+15   -1.24e+15\n",
       "payment_term_90 days from inv date                                    1.141e+15    2.9e+06   3.93e+08      0.000    1.14e+15    1.14e+15\n",
       "payment_term_advance with discount                                    2.514e+15   6.72e+07   3.74e+07      0.000    2.51e+15    2.51e+15\n",
       "payment_term_cash against document at sight                           1.795e+15   3.94e+07   4.55e+07      0.000    1.79e+15    1.79e+15\n",
       "payment_term_cash on delivery                                         2.667e+14    4.6e+06    5.8e+07      0.000    2.67e+14    2.67e+14\n",
       "payment_term_eom                                                       4.24e+13   5.72e+06   7.41e+06      0.000    4.24e+13    4.24e+13\n",
       "payment_term_immediate                                               -4.886e+13   1.69e+06  -2.88e+07      0.000   -4.89e+13   -4.89e+13\n",
       "payment_term_immediate payment                                        1.645e+14   2.58e+06   6.38e+07      0.000    1.65e+14    1.65e+14\n",
       "payment_term_lc at 60 days                                            1.311e+15   7.73e+06    1.7e+08      0.000    1.31e+15    1.31e+15\n",
       "payment_term_lc at 60 days from fcr/awb/bl date                        1.22e+15   1.81e+07   6.74e+07      0.000    1.22e+15    1.22e+15\n",
       "payment_term_lc at 90 days                                            8.137e+14   1.43e+07   5.69e+07      0.000    8.14e+14    8.14e+14\n",
       "payment_term_lcsight                                                   3.22e+15   1.52e+07   2.12e+08      0.000    3.22e+15    3.22e+15\n",
       "payment_term_on consignment                                          -1.623e+14    5.4e+06  -3.01e+07      0.000   -1.62e+14   -1.62e+14\n",
       "payment_term_standby lc at 30 days                                    2.442e+15   6.72e+07   3.63e+07      0.000    2.44e+15    2.44e+15\n",
       "invoice_class_dm                                                      1.795e+15   3.05e+06   5.88e+08      0.000    1.79e+15    1.79e+15\n",
       "invoice_class_inv                                                      2.18e+14   1.51e+06   1.45e+08      0.000    2.18e+14    2.18e+14\n",
       "invoice_currency_code_bhd                                            -6.992e+14   4.18e+06  -1.67e+08      0.000   -6.99e+14   -6.99e+14\n",
       "invoice_currency_code_eur                                             7.316e+14   2.26e+06   3.23e+08      0.000    7.32e+14    7.32e+14\n",
       "invoice_currency_code_gbp                                             1.921e+15   7.04e+06   2.73e+08      0.000    1.92e+15    1.92e+15\n",
       "invoice_currency_code_jod                                             6.346e+14   1.32e+07   4.81e+07      0.000    6.35e+14    6.35e+14\n",
       "invoice_currency_code_kwd                                            -3.497e+14   2.51e+06  -1.39e+08      0.000    -3.5e+14    -3.5e+14\n",
       "invoice_currency_code_qar                                            -7.926e+14   3.37e+06  -2.35e+08      0.000   -7.93e+14   -7.93e+14\n",
       "invoice_currency_code_sar                                            -4.973e+14   7.37e+05  -6.75e+08      0.000   -4.97e+14   -4.97e+14\n",
       "invoice_currency_code_usd                                              3.47e+14   8.17e+05   4.24e+08      0.000    3.47e+14    3.47e+14\n",
       "invoice_currency_code_zar                                            -9.918e+14   9.06e+06  -1.09e+08      0.000   -9.92e+14   -9.92e+14\n",
       "invoice_type_non goods                                               -7.244e+14   8.27e+05  -8.76e+08      0.000   -7.24e+14   -7.24e+14\n",
       "customer type_related party                                           7.687e+13   5.48e+05    1.4e+08      0.000    7.69e+13    7.69e+13\n",
       "customer type_unidentified receipts                                   1.643e+14   3.88e+07   4.24e+06      0.000    1.64e+14    1.64e+14\n",
       "========================================================================================================================================\n",
       "\"\"\""
      ]
     },
     "execution_count": 33,
     "metadata": {},
     "output_type": "execute_result"
    }
   ],
   "source": [
    "import statsmodels.api as sm\n",
    "# Logistic regression model\n",
    "logm1 = sm.GLM(y_train,(sm.add_constant(X_train)), family = sm.families.Binomial())\n",
    "logm1.fit().summary()"
   ]
  },
  {
   "cell_type": "code",
   "execution_count": 48,
   "id": "fb5464f9",
   "metadata": {},
   "outputs": [],
   "source": [
    "from sklearn.linear_model import LogisticRegression\n",
    "logisticRegr = LogisticRegression()"
   ]
  },
  {
   "cell_type": "code",
   "execution_count": 35,
   "id": "cb6cfd36",
   "metadata": {},
   "outputs": [
    {
     "data": {
      "text/html": [
       "<style>#sk-container-id-1 {color: black;background-color: white;}#sk-container-id-1 pre{padding: 0;}#sk-container-id-1 div.sk-toggleable {background-color: white;}#sk-container-id-1 label.sk-toggleable__label {cursor: pointer;display: block;width: 100%;margin-bottom: 0;padding: 0.3em;box-sizing: border-box;text-align: center;}#sk-container-id-1 label.sk-toggleable__label-arrow:before {content: \"▸\";float: left;margin-right: 0.25em;color: #696969;}#sk-container-id-1 label.sk-toggleable__label-arrow:hover:before {color: black;}#sk-container-id-1 div.sk-estimator:hover label.sk-toggleable__label-arrow:before {color: black;}#sk-container-id-1 div.sk-toggleable__content {max-height: 0;max-width: 0;overflow: hidden;text-align: left;background-color: #f0f8ff;}#sk-container-id-1 div.sk-toggleable__content pre {margin: 0.2em;color: black;border-radius: 0.25em;background-color: #f0f8ff;}#sk-container-id-1 input.sk-toggleable__control:checked~div.sk-toggleable__content {max-height: 200px;max-width: 100%;overflow: auto;}#sk-container-id-1 input.sk-toggleable__control:checked~label.sk-toggleable__label-arrow:before {content: \"▾\";}#sk-container-id-1 div.sk-estimator input.sk-toggleable__control:checked~label.sk-toggleable__label {background-color: #d4ebff;}#sk-container-id-1 div.sk-label input.sk-toggleable__control:checked~label.sk-toggleable__label {background-color: #d4ebff;}#sk-container-id-1 input.sk-hidden--visually {border: 0;clip: rect(1px 1px 1px 1px);clip: rect(1px, 1px, 1px, 1px);height: 1px;margin: -1px;overflow: hidden;padding: 0;position: absolute;width: 1px;}#sk-container-id-1 div.sk-estimator {font-family: monospace;background-color: #f0f8ff;border: 1px dotted black;border-radius: 0.25em;box-sizing: border-box;margin-bottom: 0.5em;}#sk-container-id-1 div.sk-estimator:hover {background-color: #d4ebff;}#sk-container-id-1 div.sk-parallel-item::after {content: \"\";width: 100%;border-bottom: 1px solid gray;flex-grow: 1;}#sk-container-id-1 div.sk-label:hover label.sk-toggleable__label {background-color: #d4ebff;}#sk-container-id-1 div.sk-serial::before {content: \"\";position: absolute;border-left: 1px solid gray;box-sizing: border-box;top: 0;bottom: 0;left: 50%;z-index: 0;}#sk-container-id-1 div.sk-serial {display: flex;flex-direction: column;align-items: center;background-color: white;padding-right: 0.2em;padding-left: 0.2em;position: relative;}#sk-container-id-1 div.sk-item {position: relative;z-index: 1;}#sk-container-id-1 div.sk-parallel {display: flex;align-items: stretch;justify-content: center;background-color: white;position: relative;}#sk-container-id-1 div.sk-item::before, #sk-container-id-1 div.sk-parallel-item::before {content: \"\";position: absolute;border-left: 1px solid gray;box-sizing: border-box;top: 0;bottom: 0;left: 50%;z-index: -1;}#sk-container-id-1 div.sk-parallel-item {display: flex;flex-direction: column;z-index: 1;position: relative;background-color: white;}#sk-container-id-1 div.sk-parallel-item:first-child::after {align-self: flex-end;width: 50%;}#sk-container-id-1 div.sk-parallel-item:last-child::after {align-self: flex-start;width: 50%;}#sk-container-id-1 div.sk-parallel-item:only-child::after {width: 0;}#sk-container-id-1 div.sk-dashed-wrapped {border: 1px dashed gray;margin: 0 0.4em 0.5em 0.4em;box-sizing: border-box;padding-bottom: 0.4em;background-color: white;}#sk-container-id-1 div.sk-label label {font-family: monospace;font-weight: bold;display: inline-block;line-height: 1.2em;}#sk-container-id-1 div.sk-label-container {text-align: center;}#sk-container-id-1 div.sk-container {/* jupyter's `normalize.less` sets `[hidden] { display: none; }` but bootstrap.min.css set `[hidden] { display: none !important; }` so we also need the `!important` here to be able to override the default hidden behavior on the sphinx rendered scikit-learn.org. See: https://github.com/scikit-learn/scikit-learn/issues/21755 */display: inline-block !important;position: relative;}#sk-container-id-1 div.sk-text-repr-fallback {display: none;}</style><div id=\"sk-container-id-1\" class=\"sk-top-container\"><div class=\"sk-text-repr-fallback\"><pre>LogisticRegression()</pre><b>In a Jupyter environment, please rerun this cell to show the HTML representation or trust the notebook. <br />On GitHub, the HTML representation is unable to render, please try loading this page with nbviewer.org.</b></div><div class=\"sk-container\" hidden><div class=\"sk-item\"><div class=\"sk-estimator sk-toggleable\"><input class=\"sk-toggleable__control sk-hidden--visually\" id=\"sk-estimator-id-1\" type=\"checkbox\" checked><label for=\"sk-estimator-id-1\" class=\"sk-toggleable__label sk-toggleable__label-arrow\">LogisticRegression</label><div class=\"sk-toggleable__content\"><pre>LogisticRegression()</pre></div></div></div></div></div>"
      ],
      "text/plain": [
       "LogisticRegression()"
      ]
     },
     "execution_count": 35,
     "metadata": {},
     "output_type": "execute_result"
    }
   ],
   "source": [
    "logisticRegr.fit(X_train, y_train)"
   ]
  },
  {
   "cell_type": "code",
   "execution_count": 36,
   "id": "4b94c44a",
   "metadata": {},
   "outputs": [
    {
     "data": {
      "text/plain": [
       "0.9885032999787098"
      ]
     },
     "execution_count": 36,
     "metadata": {},
     "output_type": "execute_result"
    }
   ],
   "source": [
    "# Use score method to get accuracy of model\n",
    "prediction = logisticRegr.predict(X_train)\n",
    "test_score = logisticRegr.score(X_test, y_test)\n",
    "test_score"
   ]
  },
  {
   "cell_type": "code",
   "execution_count": 37,
   "id": "eecc1134",
   "metadata": {},
   "outputs": [
    {
     "name": "stdout",
     "output_type": "stream",
     "text": [
      "X_train shape:  (65755, 57)\n",
      "X_test shape:  (28182, 57)\n"
     ]
    }
   ],
   "source": [
    "print('X_train shape: ',X_train.shape)\n",
    "print('X_test shape: ',X_test.shape)"
   ]
  },
  {
   "cell_type": "code",
   "execution_count": 38,
   "id": "7650558b",
   "metadata": {},
   "outputs": [],
   "source": [
    "train_pred = logisticRegr.predict(X_train)\n",
    "y_pred = logisticRegr.predict(X_test)"
   ]
  },
  {
   "cell_type": "code",
   "execution_count": 39,
   "id": "0957d9a3",
   "metadata": {},
   "outputs": [
    {
     "name": "stdout",
     "output_type": "stream",
     "text": [
      "train score 0.9888981826477073\n",
      "test score 0.9885032999787098\n"
     ]
    }
   ],
   "source": [
    "from sklearn import metrics\n",
    "train_score = metrics.accuracy_score(y_train, train_pred)\n",
    "test_score = metrics.accuracy_score(y_test, y_pred)\n",
    "print(\"train score\", train_score)\n",
    "print(\"test score\", test_score)"
   ]
  },
  {
   "cell_type": "code",
   "execution_count": 40,
   "id": "fd1f6199",
   "metadata": {},
   "outputs": [
    {
     "data": {
      "text/plain": [
       "<Figure size 720x360 with 0 Axes>"
      ]
     },
     "metadata": {},
     "output_type": "display_data"
    },
    {
     "data": {
      "image/png": "[encoded data removed]",
      "text/plain": [
       "<Figure size 432x288 with 2 Axes>"
      ]
     },
     "metadata": {},
     "output_type": "display_data"
    }
   ],
   "source": [
    "from sklearn.metrics import plot_confusion_matrix\n",
    "from sklearn.metrics import confusion_matrix, plot_confusion_matrix\n",
    "\n",
    "#conf_mat = confusion_matrix(y_test, y_pred)\n",
    "#class_names=[0,1]\n",
    "#print(conf_mat)\n",
    "#plt.figure(figsize=(10,5))\n",
    "\n",
    "#plt.grid(False)\n",
    "plt.figure(figsize=(10,5))\n",
    "plot_confusion_matrix(logisticRegr, X_test, y_test, cmap=\"summer\",\n",
    "                                colorbar=True)  \n",
    "plt.grid(False)\n",
    "plt.show()"
   ]
  },
  {
   "cell_type": "code",
   "execution_count": 41,
   "id": "7cee1aa1",
   "metadata": {},
   "outputs": [
    {
     "name": "stdout",
     "output_type": "stream",
     "text": [
      "confusion Matrix is :\n",
      "\n",
      " [[  817   275]\n",
      " [   49 27041]]\n",
      "\n",
      "\n",
      "ROC-AUC score  test dataset:  \t 0.9936543092689271\n",
      "precision score  test dataset:   0.9899326402108655\n",
      "Recall score  test dataset:  \t 0.9981912144702842\n",
      "f1 score  test dataset :  \t 0.9940447744734037\n"
     ]
    }
   ],
   "source": [
    "from sklearn import metrics\n",
    "from sklearn.metrics import confusion_matrix\n",
    "# predict probabilities on Test and take probability for class 1([:1])\n",
    "y_pred_prob_test = logisticRegr.predict_proba(X_test)[:, 1]\n",
    "#predict labels on test dataset\n",
    "y_pred_test = logisticRegr.predict(X_test)\n",
    "# create onfusion matrix\n",
    "cm = confusion_matrix(y_test, y_pred_test)\n",
    "print(\"confusion Matrix is :\\n\\n\",cm)\n",
    "print(\"\\n\")\n",
    "# ROC- AUC score\n",
    "print(\"ROC-AUC score  test dataset:  \\t\", metrics.roc_auc_score(y_test,y_pred_prob_test))\n",
    "#Precision score\n",
    "print(\"precision score  test dataset:  \", metrics.precision_score(y_test,y_pred_test))\n",
    "#Recall Score\n",
    "print(\"Recall score  test dataset:  \\t\", metrics.recall_score(y_test,y_pred_test))\n",
    "#f1 score\n",
    "print(\"f1 score  test dataset :  \\t\", metrics.f1_score(y_test,y_pred_test))"
   ]
  },
  {
   "cell_type": "markdown",
   "id": "a3e4c817",
   "metadata": {},
   "source": [
    "Challenges related to imbalanced dataset\n",
    "1. Biased predictions\n",
    "2. Misleading accuracy"
   ]
  },
  {
   "cell_type": "markdown",
   "id": "b640b633",
   "metadata": {},
   "source": [
    "We will check with two efficient techniques: ADASYN and SMOTE+TOMEK"
   ]
  },
  {
   "cell_type": "markdown",
   "id": "42797540",
   "metadata": {},
   "source": [
    "**Dealing with class imbalance techniques**"
   ]
  },
  {
   "cell_type": "code",
   "execution_count": 45,
   "id": "938e1149",
   "metadata": {},
   "outputs": [
    {
     "data": {
      "text/plain": [
       "126398"
      ]
     },
     "execution_count": 45,
     "metadata": {},
     "output_type": "execute_result"
    }
   ],
   "source": [
    "#ADASYN\n",
    "from collections import Counter\n",
    "from imblearn.over_sampling import ADASYN\n",
    "ada = ADASYN(random_state=45, n_neighbors=5)\n",
    "X_resampled_ada, y_resampled_ada = ada.fit_resample(X_train, y_train)\n",
    "len(X_resampled_ada)"
   ]
  },
  {
   "cell_type": "code",
   "execution_count": 46,
   "id": "e8b790ca",
   "metadata": {},
   "outputs": [
    {
     "name": "stdout",
     "output_type": "stream",
     "text": [
      "[('target', 1)]\n"
     ]
    }
   ],
   "source": [
    "print(sorted(Counter(y_resampled_ada).items()))"
   ]
  },
  {
   "cell_type": "code",
   "execution_count": 49,
   "id": "4d78a04a",
   "metadata": {},
   "outputs": [],
   "source": [
    "lreg_ada = LogisticRegression()\n",
    "lreg_ada.fit(X_resampled_ada, y_resampled_ada)\n",
    "\n",
    "y_pred_ada = lreg_ada.predict(X_test)"
   ]
  },
  {
   "cell_type": "code",
   "execution_count": 51,
   "id": "5171b11d",
   "metadata": {},
   "outputs": [
    {
     "name": "stdout",
     "output_type": "stream",
     "text": [
      "Accuracy:  0.9305939961677666\n",
      "F1 score:  0.9625473901887948\n",
      "Recall:  0.9278331487633813\n",
      "Precision:  0.9999602164226608\n",
      "\n",
      " clasification report:\n",
      "               precision    recall  f1-score   support\n",
      "\n",
      "           0       0.36      1.00      0.53      1092\n",
      "           1       1.00      0.93      0.96     27090\n",
      "\n",
      "    accuracy                           0.93     28182\n",
      "   macro avg       0.68      0.96      0.74     28182\n",
      "weighted avg       0.98      0.93      0.95     28182\n",
      "\n",
      "\n",
      " confussion matrix:\n",
      " [[ 1091     1]\n",
      " [ 1955 25135]]\n"
     ]
    }
   ],
   "source": [
    "from sklearn import metrics \n",
    "print ('Accuracy: ', metrics.accuracy_score(y_test, y_pred_ada))\n",
    "print ('F1 score: ', metrics.f1_score(y_test, y_pred_ada))\n",
    "print ('Recall: ', metrics.recall_score(y_test, y_pred_ada))\n",
    "print ('Precision: ', metrics.precision_score(y_test, y_pred_ada))\n",
    "print ('\\n clasification report:\\n', metrics.classification_report(y_test,y_pred_ada))\n",
    "print ('\\n confussion matrix:\\n',metrics.confusion_matrix(y_test, y_pred_ada))"
   ]
  },
  {
   "cell_type": "markdown",
   "id": "d342894a",
   "metadata": {},
   "source": [
    "ADASYN is an automatic first choice to handle the class imbalance problem as it's an extension of SMOTE where the minority examples are generated based on their density distribution.\n",
    "More synthetic data are generated from minority class samples that are harder to learn as compared with those minority samples that are easier to learn."
   ]
  },
  {
   "cell_type": "markdown",
   "id": "5b2b054f",
   "metadata": {},
   "source": [
    "SMOTE+TOMEK Combining Oversampling and Undersampling\n",
    "\n",
    "1. Tomek links can be used as an under-sampling method or as a data cleaning method.\n",
    "2. Tomek links to the over-sampled training set as a data cleaning method. Thus, instead of removing only the majority class examples that from Tomek links, examples from both classes are removed."
   ]
  },
  {
   "cell_type": "code",
   "execution_count": 52,
   "id": "5c01e6c6",
   "metadata": {},
   "outputs": [
    {
     "data": {
      "text/plain": [
       "126328"
      ]
     },
     "execution_count": 52,
     "metadata": {},
     "output_type": "execute_result"
    }
   ],
   "source": [
    "#SMOTE+TOMEK\n",
    "from imblearn.combine import SMOTETomek\n",
    "smt_tmk = SMOTETomek(random_state=45)\n",
    "X_resampled_smt_tmk, y_resampled_smt_tmk = smt_tmk.fit_resample(X_train, y_train)\n",
    "len(X_resampled_smt_tmk)"
   ]
  },
  {
   "cell_type": "code",
   "execution_count": 53,
   "id": "a9ec4e15",
   "metadata": {},
   "outputs": [
    {
     "name": "stdout",
     "output_type": "stream",
     "text": [
      "[('target', 1)]\n"
     ]
    }
   ],
   "source": [
    "print(sorted(Counter(y_resampled_smt_tmk).items()))"
   ]
  },
  {
   "cell_type": "code",
   "execution_count": 54,
   "id": "a5a00bc9",
   "metadata": {},
   "outputs": [],
   "source": [
    "lreg_smt_tmk = LogisticRegression()\n",
    "lreg_smt_tmk.fit(X_resampled_smt_tmk, y_resampled_smt_tmk)\n",
    "\n",
    "y_pred_smt_tmk = lreg_smt_tmk.predict(X_test)"
   ]
  },
  {
   "cell_type": "code",
   "execution_count": 56,
   "id": "61d7c5e3",
   "metadata": {},
   "outputs": [
    {
     "name": "stdout",
     "output_type": "stream",
     "text": [
      "Accuracy:  0.962884110425094\n",
      "F1 score:  0.980322070885695\n",
      "Recall:  0.9617940199335548\n",
      "Precision:  0.9995779943221055\n",
      "\n",
      " clasification report:\n",
      "               precision    recall  f1-score   support\n",
      "\n",
      "           0       0.51      0.99      0.67      1092\n",
      "           1       1.00      0.96      0.98     27090\n",
      "\n",
      "    accuracy                           0.96     28182\n",
      "   macro avg       0.76      0.98      0.83     28182\n",
      "weighted avg       0.98      0.96      0.97     28182\n",
      "\n",
      "\n",
      " confussion matrix:\n",
      " [[ 1081    11]\n",
      " [ 1035 26055]]\n"
     ]
    }
   ],
   "source": [
    "print ('Accuracy: ', metrics.accuracy_score(y_test, y_pred_smt_tmk))\n",
    "print ('F1 score: ', metrics.f1_score(y_test, y_pred_smt_tmk))\n",
    "print ('Recall: ', metrics.recall_score(y_test, y_pred_smt_tmk))\n",
    "print ('Precision: ', metrics.precision_score(y_test, y_pred_smt_tmk))\n",
    "print ('\\n clasification report:\\n', metrics.classification_report(y_test,y_pred_smt_tmk))\n",
    "print ('\\n confussion matrix:\\n',metrics.confusion_matrix(y_test, y_pred_smt_tmk))"
   ]
  },
  {
   "cell_type": "markdown",
   "id": "d5d2725d",
   "metadata": {},
   "source": [
    "So, we will finalize the SMOTE+TOMEK model as it's giving the better result across all the metrics"
   ]
  },
  {
   "cell_type": "code",
   "execution_count": 42,
   "id": "aa5c852f",
   "metadata": {},
   "outputs": [],
   "source": [
    "#Import Random Forest Model\n",
    "from sklearn.ensemble import RandomForestClassifier\n",
    "\n",
    "#Create a Gaussian Classifier\n",
    "clf=RandomForestClassifier(n_estimators=100)\n",
    "\n",
    "#Train the model using the training sets y_pred=clf.predict(X_test)\n",
    "clf.fit(X_train,y_train)\n",
    "\n",
    "y_pred=clf.predict(X_test)"
   ]
  },
  {
   "cell_type": "code",
   "execution_count": 43,
   "id": "5e339064",
   "metadata": {},
   "outputs": [
    {
     "name": "stdout",
     "output_type": "stream",
     "text": [
      "Train set accuracy: 1.0\n",
      "Test set accuracy: 1.0\n"
     ]
    }
   ],
   "source": [
    "#train and test set prediction\n",
    "y_pred = clf.predict(X_test)\n",
    "y_pred_train = clf.predict(X_train)\n",
    "print(\"Train set accuracy:\",metrics.accuracy_score(y_train, y_pred_train))\n",
    "print(\"Test set accuracy:\",metrics.accuracy_score(y_test, y_pred))"
   ]
  },
  {
   "cell_type": "code",
   "execution_count": 44,
   "id": "19e07924",
   "metadata": {},
   "outputs": [
    {
     "data": {
      "text/plain": [
       "age                                   0.737225\n",
       "payment_term_immediate payment        0.107642\n",
       "cbrt_usd_amount                       0.044403\n",
       "invoice_type_non goods                0.039541\n",
       "invoice_currency_code_sar             0.023057\n",
       "invoice_currency_code_usd             0.009248\n",
       "payment_term_immediate                0.009229\n",
       "invoice_class_inv                     0.007496\n",
       "customer type_related party           0.005183\n",
       "payment_term_30 days from eom         0.004558\n",
       "payment_term_30 days from inv date    0.002256\n",
       "payment_term_60 days from inv date    0.002241\n",
       "payment_term_cash on delivery         0.001431\n",
       "invoice_currency_code_eur             0.001295\n",
       "payment_term_60 days from eom         0.001202\n",
       "invoice_class_dm                      0.000863\n",
       "invoice_currency_code_bhd             0.000596\n",
       "payment_term_15 days from eom         0.000493\n",
       "invoice_currency_code_kwd             0.000442\n",
       "payment_term_90 days from eom         0.000281\n",
       "dtype: float64"
      ]
     },
     "execution_count": 44,
     "metadata": {},
     "output_type": "execute_result"
    }
   ],
   "source": [
    "feature_imp = pd.Series(clf.feature_importances_,index=X_train.columns).sort_values(ascending=False)\n",
    "feature_imp.nlargest(20)"
   ]
  },
  {
   "cell_type": "markdown",
   "id": "e65b1f3c",
   "metadata": {},
   "source": [
    "Top 20 features as per the feature-importance of Random Forest model"
   ]
  },
  {
   "cell_type": "code",
   "execution_count": 77,
   "id": "183fca78",
   "metadata": {},
   "outputs": [],
   "source": [
    "#Feature Importance using Recursive Feature Elimination\n",
    "from sklearn.feature_selection import RFE\n",
    "predictors = X_resampled_smt_tmk\n",
    "selector = RFE(lreg_smt_tmk, n_features_to_select=10)\n",
    "selector = selector.fit(predictors, y_resampled_smt_tmk)"
   ]
  },
  {
   "cell_type": "code",
   "execution_count": 78,
   "id": "33d64073",
   "metadata": {},
   "outputs": [
    {
     "name": "stdout",
     "output_type": "stream",
     "text": [
      "[False  True False False False False False False False False False False\n",
      " False False False False False False False False False  True False False\n",
      " False False False False False False False False False False  True False\n",
      " False False False False  True  True False False False False  True  True\n",
      " False  True  True False False False  True False False]\n",
      "[19  1 46 38  7 22 48 43 23 34  9  5 30 37 45 44 25 17 15 26 28  1 42 20\n",
      " 16 40 31 32 33 10 29 18 13  2  1  4  8 27 35 41  1  1 36 21  6 14  1  1\n",
      "  3  1  1 24 11 47  1 12 39]\n"
     ]
    }
   ],
   "source": [
    "print(selector.support_)\n",
    "print(selector.ranking_)"
   ]
  },
  {
   "cell_type": "code",
   "execution_count": 63,
   "id": "9d8fbfbe",
   "metadata": {},
   "outputs": [
    {
     "data": {
      "text/plain": [
       "array([28,  1, 55, 47, 16, 31, 57, 52, 32, 43, 18, 14, 39, 46, 54, 53, 34,\n",
       "       26, 24, 35, 37,  8, 51, 29, 25, 49, 40, 41, 42, 19, 38, 27, 22, 11,\n",
       "        7, 13, 17, 36, 44, 50,  5,  4, 45, 30, 15, 23,  3,  2, 12,  9, 10,\n",
       "       33, 20, 56,  6, 21, 48])"
      ]
     },
     "execution_count": 63,
     "metadata": {},
     "output_type": "execute_result"
    }
   ],
   "source": [
    "order = selector.ranking_\n",
    "order"
   ]
  },
  {
   "cell_type": "code",
   "execution_count": 79,
   "id": "07d89ab9",
   "metadata": {},
   "outputs": [
    {
     "data": {
      "text/plain": [
       "Index(['age',\n",
       "       'payment_term_50% advance payment and 50% upon receiving the shipment',\n",
       "       'payment_term_eom', 'payment_term_lcsight',\n",
       "       'payment_term_on consignment', 'invoice_currency_code_eur',\n",
       "       'invoice_currency_code_gbp', 'invoice_currency_code_kwd',\n",
       "       'invoice_currency_code_qar', 'invoice_type_non goods'],\n",
       "      dtype='object')"
      ]
     },
     "execution_count": 79,
     "metadata": {},
     "output_type": "execute_result"
    }
   ],
   "source": [
    "X_resampled_smt_tmk.columns[selector.support_]"
   ]
  },
  {
   "cell_type": "code",
   "execution_count": null,
   "id": "64ea0a56",
   "metadata": {},
   "outputs": [],
   "source": []
  },
  {
   "cell_type": "markdown",
   "id": "794132d6",
   "metadata": {},
   "source": [
    "**Finalize the model**"
   ]
  },
  {
   "cell_type": "code",
   "execution_count": 25,
   "id": "e1267ce2",
   "metadata": {},
   "outputs": [],
   "source": [
    "X = data[['age',\n",
    "       'payment_term_50% advance payment and 50% upon receiving the shipment',\n",
    "       'payment_term_eom', 'payment_term_lcsight',\n",
    "       'payment_term_on consignment', 'invoice_currency_code_eur',\n",
    "       'invoice_currency_code_gbp', 'invoice_currency_code_kwd',\n",
    "       'invoice_currency_code_qar', 'invoice_type_non goods']]\n",
    "y = data[['target']]"
   ]
  },
  {
   "cell_type": "code",
   "execution_count": 32,
   "id": "33099bcf",
   "metadata": {},
   "outputs": [],
   "source": [
    "X_train, X_test, y_train, y_test = train_test_split(X, y, train_size = 0.7, test_size = 0.3, random_state = 100)"
   ]
  },
  {
   "cell_type": "code",
   "execution_count": 33,
   "id": "9bd7d68f",
   "metadata": {},
   "outputs": [],
   "source": [
    "from sklearn.preprocessing import StandardScaler\n",
    "scaler = StandardScaler()"
   ]
  },
  {
   "cell_type": "code",
   "execution_count": 34,
   "id": "016c277d",
   "metadata": {},
   "outputs": [],
   "source": [
    "num_vars = ['age']"
   ]
  },
  {
   "cell_type": "code",
   "execution_count": 35,
   "id": "575ef012",
   "metadata": {},
   "outputs": [],
   "source": [
    "data[num_vars] = scaler.fit_transform(data[num_vars])"
   ]
  },
  {
   "cell_type": "code",
   "execution_count": 36,
   "id": "d100fc4a",
   "metadata": {},
   "outputs": [],
   "source": [
    "scaler.fit(X_train[['age']])\n",
    "X_train[['age']] = scaler.transform(X_train[['age']])"
   ]
  },
  {
   "cell_type": "code",
   "execution_count": 37,
   "id": "f6cbfcca",
   "metadata": {},
   "outputs": [],
   "source": [
    "X_test[['age']] = scaler.transform(X_test[['age']])"
   ]
  },
  {
   "cell_type": "code",
   "execution_count": 38,
   "id": "03d881f5",
   "metadata": {},
   "outputs": [
    {
     "data": {
      "text/plain": [
       "126346"
      ]
     },
     "execution_count": 38,
     "metadata": {},
     "output_type": "execute_result"
    }
   ],
   "source": [
    "#SMOTE+TOMEK\n",
    "from imblearn.combine import SMOTETomek\n",
    "smt_tmk = SMOTETomek(random_state=45)\n",
    "X_resampled_smt_tmk, y_resampled_smt_tmk = smt_tmk.fit_resample(X_train, y_train)\n",
    "len(X_resampled_smt_tmk)"
   ]
  },
  {
   "cell_type": "code",
   "execution_count": 39,
   "id": "edc90096",
   "metadata": {},
   "outputs": [],
   "source": [
    "lreg_smt_tmk = LogisticRegression()\n",
    "lreg_smt_tmk.fit(X_resampled_smt_tmk, y_resampled_smt_tmk)\n",
    "\n",
    "y_pred_smt_tmk = lreg_smt_tmk.predict(X_test)"
   ]
  },
  {
   "cell_type": "code",
   "execution_count": 40,
   "id": "7756884f",
   "metadata": {},
   "outputs": [
    {
     "name": "stdout",
     "output_type": "stream",
     "text": [
      "Accuracy:  0.9778936910084451\n",
      "F1 score:  0.9883692709791841\n",
      "Recall:  0.9771502399409376\n",
      "Precision:  0.9998489140698772\n",
      "\n",
      " clasification report:\n",
      "               precision    recall  f1-score   support\n",
      "\n",
      "           0       0.64      1.00      0.78      1092\n",
      "           1       1.00      0.98      0.99     27090\n",
      "\n",
      "    accuracy                           0.98     28182\n",
      "   macro avg       0.82      0.99      0.88     28182\n",
      "weighted avg       0.99      0.98      0.98     28182\n",
      "\n",
      "\n",
      " confussion matrix:\n",
      " [[ 1088     4]\n",
      " [  619 26471]]\n"
     ]
    }
   ],
   "source": [
    "from sklearn import metrics\n",
    "print ('Accuracy: ', metrics.accuracy_score(y_test, y_pred_smt_tmk))\n",
    "print ('F1 score: ', metrics.f1_score(y_test, y_pred_smt_tmk))\n",
    "print ('Recall: ', metrics.recall_score(y_test, y_pred_smt_tmk))\n",
    "print ('Precision: ', metrics.precision_score(y_test, y_pred_smt_tmk))\n",
    "print ('\\n clasification report:\\n', metrics.classification_report(y_test,y_pred_smt_tmk))\n",
    "print ('\\n confussion matrix:\\n',metrics.confusion_matrix(y_test, y_pred_smt_tmk))"
   ]
  },
  {
   "cell_type": "code",
   "execution_count": 41,
   "id": "589384ef",
   "metadata": {},
   "outputs": [
    {
     "data": {
      "image/png": "[encoded data removed]",
      "text/plain": [
       "<Figure size 1152x576 with 1 Axes>"
      ]
     },
     "metadata": {
      "needs_background": "light"
     },
     "output_type": "display_data"
    }
   ],
   "source": [
    "y_pred_proba = lreg_smt_tmk.predict_proba(X_test)[::,1]\n",
    "fpr, tpr, _ = metrics.roc_curve(y_test,  y_pred_proba)\n",
    "auc = metrics.roc_auc_score(y_test, y_pred_proba)\n",
    "#plt.figure(figsize=(16,8))\n",
    "#plt.plot(fpr,tpr,label=\"AUC-ROC Curve, auc=\"+str(auc))\n",
    "#plt.legend(loc=4) \n",
    "#plt.show()\n",
    "plt.subplots(1, figsize=(16,8))\n",
    "plt.title('Receiver Operating Characteristic - Logistic regression')\n",
    "plt.plot(fpr, tpr,label=\"AUC-ROC Curve, auc=\"+str(auc))\n",
    "plt.plot([0, 1], ls=\"--\")\n",
    "plt.plot([0, 0], [1, 0] , c=\".7\"), plt.plot([1, 1] , c=\".7\")\n",
    "plt.ylabel('Sensitivity(True Positive Rate)')\n",
    "plt.xlabel('1-Specificity(False Positive Rate)')\n",
    "plt.legend(loc=4)\n",
    "plt.show()"
   ]
  },
  {
   "cell_type": "code",
   "execution_count": 43,
   "id": "2c2af217",
   "metadata": {},
   "outputs": [
    {
     "name": "stdout",
     "output_type": "stream",
     "text": [
      "auc-roc score:  0.9972491978305932\n"
     ]
    }
   ],
   "source": [
    "print(\"auc-roc score: \", metrics.roc_auc_score(y_test, y_pred_proba))"
   ]
  },
  {
   "cell_type": "markdown",
   "id": "6b379a72",
   "metadata": {},
   "source": [
    "So, we can observe that all score of the metrics got improved in this finalized model"
   ]
  },
  {
   "cell_type": "markdown",
   "id": "2d9c0829",
   "metadata": {},
   "source": [
    "**Unseen Data: Model Evaluation**"
   ]
  },
  {
   "cell_type": "code",
   "execution_count": 94,
   "id": "4e251dd5",
   "metadata": {},
   "outputs": [
    {
     "data": {
      "text/html": [
       "<div>\n",
       "<style scoped>\n",
       "    .dataframe tbody tr th:only-of-type {\n",
       "        vertical-align: middle;\n",
       "    }\n",
       "\n",
       "    .dataframe tbody tr th {\n",
       "        vertical-align: top;\n",
       "    }\n",
       "\n",
       "    .dataframe thead th {\n",
       "        text-align: right;\n",
       "    }\n",
       "</style>\n",
       "<table border=\"1\" class=\"dataframe\">\n",
       "  <thead>\n",
       "    <tr style=\"text-align: right;\">\n",
       "      <th></th>\n",
       "      <th>AS_OF_DATE</th>\n",
       "      <th>Customer Type</th>\n",
       "      <th>Customer_Name</th>\n",
       "      <th>Customer Account No</th>\n",
       "      <th>Transaction Number</th>\n",
       "      <th>Transaction Date</th>\n",
       "      <th>Payment Term</th>\n",
       "      <th>Due Date</th>\n",
       "      <th>Transaction Currency</th>\n",
       "      <th>Local Amount</th>\n",
       "      <th>Transaction Class</th>\n",
       "      <th>AGE</th>\n",
       "      <th>USD Amount</th>\n",
       "      <th>INV_CREATION_DATE</th>\n",
       "      <th>INVOICE_TYPE</th>\n",
       "    </tr>\n",
       "  </thead>\n",
       "  <tbody>\n",
       "    <tr>\n",
       "      <th>0</th>\n",
       "      <td>04-04-2022 01:07</td>\n",
       "      <td>3rd Party</td>\n",
       "      <td>GIVE Corp</td>\n",
       "      <td>49144.0</td>\n",
       "      <td>1.00E+11</td>\n",
       "      <td>21-12-2021</td>\n",
       "      <td>Immediate</td>\n",
       "      <td>21-12-2021</td>\n",
       "      <td>AED</td>\n",
       "      <td>-3,088</td>\n",
       "      <td>CREDIT NOTE</td>\n",
       "      <td>105</td>\n",
       "      <td>-3,088</td>\n",
       "      <td>12/21/2021 12:53</td>\n",
       "      <td>Goods</td>\n",
       "    </tr>\n",
       "    <tr>\n",
       "      <th>1</th>\n",
       "      <td>04-04-2022 01:07</td>\n",
       "      <td>Related Party</td>\n",
       "      <td>AL J Corp</td>\n",
       "      <td>23152.0</td>\n",
       "      <td>1.00E+11</td>\n",
       "      <td>01-02-2022</td>\n",
       "      <td>30 Days from Inv Date</td>\n",
       "      <td>03-03-2022</td>\n",
       "      <td>USD</td>\n",
       "      <td>2,000</td>\n",
       "      <td>INVOICE</td>\n",
       "      <td>33</td>\n",
       "      <td>2,000</td>\n",
       "      <td>02-01-2022 14:09</td>\n",
       "      <td>Goods</td>\n",
       "    </tr>\n",
       "    <tr>\n",
       "      <th>2</th>\n",
       "      <td>04-04-2022 01:07</td>\n",
       "      <td>Related Party</td>\n",
       "      <td>AL J Corp</td>\n",
       "      <td>23152.0</td>\n",
       "      <td>1.00E+11</td>\n",
       "      <td>24-03-2022</td>\n",
       "      <td>30 Days from Inv Date</td>\n",
       "      <td>23-04-2022</td>\n",
       "      <td>USD</td>\n",
       "      <td>2,000</td>\n",
       "      <td>INVOICE</td>\n",
       "      <td>-18</td>\n",
       "      <td>2,000</td>\n",
       "      <td>3/24/2022 17:46</td>\n",
       "      <td>Goods</td>\n",
       "    </tr>\n",
       "    <tr>\n",
       "      <th>3</th>\n",
       "      <td>04-04-2022 01:07</td>\n",
       "      <td>Related Party</td>\n",
       "      <td>AL R Corp</td>\n",
       "      <td>23312.0</td>\n",
       "      <td>1.00E+11</td>\n",
       "      <td>04-01-2022</td>\n",
       "      <td>15 Days from Inv Date</td>\n",
       "      <td>19-01-2022</td>\n",
       "      <td>AED</td>\n",
       "      <td>2,415</td>\n",
       "      <td>INVOICE</td>\n",
       "      <td>76</td>\n",
       "      <td>2,415</td>\n",
       "      <td>01-05-2022 11:49</td>\n",
       "      <td>Goods</td>\n",
       "    </tr>\n",
       "    <tr>\n",
       "      <th>4</th>\n",
       "      <td>04-04-2022 01:07</td>\n",
       "      <td>Related Party</td>\n",
       "      <td>ALLI Corp</td>\n",
       "      <td>7530.0</td>\n",
       "      <td>1.00E+11</td>\n",
       "      <td>03-03-2022</td>\n",
       "      <td>30 Days from EOM</td>\n",
       "      <td>30-04-2022</td>\n",
       "      <td>AED</td>\n",
       "      <td>3,800</td>\n",
       "      <td>INVOICE</td>\n",
       "      <td>-25</td>\n",
       "      <td>3,800</td>\n",
       "      <td>03-03-2022 22:30</td>\n",
       "      <td>Goods</td>\n",
       "    </tr>\n",
       "  </tbody>\n",
       "</table>\n",
       "</div>"
      ],
      "text/plain": [
       "         AS_OF_DATE  Customer Type Customer_Name  Customer Account No  \\\n",
       "0  04-04-2022 01:07      3rd Party     GIVE Corp              49144.0   \n",
       "1  04-04-2022 01:07  Related Party     AL J Corp              23152.0   \n",
       "2  04-04-2022 01:07  Related Party     AL J Corp              23152.0   \n",
       "3  04-04-2022 01:07  Related Party     AL R Corp              23312.0   \n",
       "4  04-04-2022 01:07  Related Party     ALLI Corp               7530.0   \n",
       "\n",
       "  Transaction Number Transaction Date           Payment Term    Due Date  \\\n",
       "0           1.00E+11       21-12-2021              Immediate  21-12-2021   \n",
       "1           1.00E+11       01-02-2022  30 Days from Inv Date  03-03-2022   \n",
       "2           1.00E+11       24-03-2022  30 Days from Inv Date  23-04-2022   \n",
       "3           1.00E+11       04-01-2022  15 Days from Inv Date  19-01-2022   \n",
       "4           1.00E+11       03-03-2022       30 Days from EOM  30-04-2022   \n",
       "\n",
       "  Transaction Currency Local Amount Transaction Class  AGE USD Amount  \\\n",
       "0                  AED       -3,088       CREDIT NOTE  105     -3,088   \n",
       "1                  USD        2,000           INVOICE   33      2,000   \n",
       "2                  USD        2,000           INVOICE  -18      2,000   \n",
       "3                  AED        2,415           INVOICE   76      2,415   \n",
       "4                  AED        3,800           INVOICE  -25      3,800   \n",
       "\n",
       "  INV_CREATION_DATE INVOICE_TYPE  \n",
       "0  12/21/2021 12:53        Goods  \n",
       "1  02-01-2022 14:09        Goods  \n",
       "2   3/24/2022 17:46        Goods  \n",
       "3  01-05-2022 11:49        Goods  \n",
       "4  03-03-2022 22:30        Goods  "
      ]
     },
     "execution_count": 94,
     "metadata": {},
     "output_type": "execute_result"
    }
   ],
   "source": [
    "# Importing the dataset and looking at the first 6 records\n",
    "test = pd.read_csv(\"G:/M/Domain Oriented Case Study/E-Commerce & Retail B2B Case Study/Open_Invoice_data.csv\",encoding='latin1')\n",
    "test.head()"
   ]
  },
  {
   "cell_type": "code",
   "execution_count": 95,
   "id": "7bfb48b6",
   "metadata": {},
   "outputs": [],
   "source": [
    "df = pd.DataFrame()\n",
    "df['Customer No.'] = test['Customer Account No'].astype(str)"
   ]
  },
  {
   "cell_type": "code",
   "execution_count": 96,
   "id": "4bcec386",
   "metadata": {},
   "outputs": [],
   "source": [
    "test = test.drop(['AS_OF_DATE','Transaction Number'],axis=1)"
   ]
  },
  {
   "cell_type": "code",
   "execution_count": 97,
   "id": "59859fff",
   "metadata": {},
   "outputs": [],
   "source": [
    "test['invoice creation date'] = np.where(test['INV_CREATION_DATE'].str.contains('/'), pd.to_datetime(test['INV_CREATION_DATE']).dt.strftime('%m/%d/%Y'), pd.to_datetime(test['INV_CREATION_DATE'], dayfirst=True).dt.strftime('%m/%d/%Y'))"
   ]
  },
  {
   "cell_type": "code",
   "execution_count": 98,
   "id": "66c14bfd",
   "metadata": {},
   "outputs": [
    {
     "data": {
      "text/html": [
       "<div>\n",
       "<style scoped>\n",
       "    .dataframe tbody tr th:only-of-type {\n",
       "        vertical-align: middle;\n",
       "    }\n",
       "\n",
       "    .dataframe tbody tr th {\n",
       "        vertical-align: top;\n",
       "    }\n",
       "\n",
       "    .dataframe thead th {\n",
       "        text-align: right;\n",
       "    }\n",
       "</style>\n",
       "<table border=\"1\" class=\"dataframe\">\n",
       "  <thead>\n",
       "    <tr style=\"text-align: right;\">\n",
       "      <th></th>\n",
       "      <th>Customer Type</th>\n",
       "      <th>Customer_Name</th>\n",
       "      <th>Customer Account No</th>\n",
       "      <th>Transaction Date</th>\n",
       "      <th>Payment Term</th>\n",
       "      <th>Due Date</th>\n",
       "      <th>Transaction Currency</th>\n",
       "      <th>Local Amount</th>\n",
       "      <th>Transaction Class</th>\n",
       "      <th>AGE</th>\n",
       "      <th>USD Amount</th>\n",
       "      <th>INV_CREATION_DATE</th>\n",
       "      <th>INVOICE_TYPE</th>\n",
       "      <th>invoice creation date</th>\n",
       "    </tr>\n",
       "  </thead>\n",
       "  <tbody>\n",
       "    <tr>\n",
       "      <th>47891</th>\n",
       "      <td>Related Party</td>\n",
       "      <td>ALLI Corp</td>\n",
       "      <td>53540.0</td>\n",
       "      <td>27-01-2022</td>\n",
       "      <td>30 Days from Inv Date</td>\n",
       "      <td>26-02-2022</td>\n",
       "      <td>USD</td>\n",
       "      <td>17,995</td>\n",
       "      <td>INVOICE</td>\n",
       "      <td>38</td>\n",
       "      <td>4,900</td>\n",
       "      <td>1/27/2022 14:31</td>\n",
       "      <td>Goods</td>\n",
       "      <td>01/27/2022</td>\n",
       "    </tr>\n",
       "    <tr>\n",
       "      <th>50770</th>\n",
       "      <td>3rd Party</td>\n",
       "      <td>WHIT Corp</td>\n",
       "      <td>7557.0</td>\n",
       "      <td>18-02-2022</td>\n",
       "      <td>60 Days from EOM</td>\n",
       "      <td>30-04-2022</td>\n",
       "      <td>KWD</td>\n",
       "      <td>6,785</td>\n",
       "      <td>INVOICE</td>\n",
       "      <td>-25</td>\n",
       "      <td>22,232</td>\n",
       "      <td>2/18/2022 20:51</td>\n",
       "      <td>Goods</td>\n",
       "      <td>02/18/2022</td>\n",
       "    </tr>\n",
       "    <tr>\n",
       "      <th>62060</th>\n",
       "      <td>Related Party</td>\n",
       "      <td>SEPH Corp</td>\n",
       "      <td>2315.0</td>\n",
       "      <td>25-03-2022</td>\n",
       "      <td>60 Days from EOM</td>\n",
       "      <td>30-05-2022</td>\n",
       "      <td>AED</td>\n",
       "      <td>7,271</td>\n",
       "      <td>INVOICE</td>\n",
       "      <td>-55</td>\n",
       "      <td>7,271</td>\n",
       "      <td>3/25/2022 10:03</td>\n",
       "      <td>Goods</td>\n",
       "      <td>03/25/2022</td>\n",
       "    </tr>\n",
       "    <tr>\n",
       "      <th>48216</th>\n",
       "      <td>3rd Party</td>\n",
       "      <td>AL J Corp</td>\n",
       "      <td>7504.0</td>\n",
       "      <td>10-03-2022</td>\n",
       "      <td>60 Days from EOM</td>\n",
       "      <td>30-05-2022</td>\n",
       "      <td>KWD</td>\n",
       "      <td>381</td>\n",
       "      <td>INVOICE</td>\n",
       "      <td>-55</td>\n",
       "      <td>1,249</td>\n",
       "      <td>03-10-2022 09:36</td>\n",
       "      <td>Goods</td>\n",
       "      <td>10/03/2022</td>\n",
       "    </tr>\n",
       "    <tr>\n",
       "      <th>9580</th>\n",
       "      <td>3rd Party</td>\n",
       "      <td>PUIG Corp</td>\n",
       "      <td>38034.0</td>\n",
       "      <td>01-05-2021</td>\n",
       "      <td>Immediate Payment</td>\n",
       "      <td>01-05-2021</td>\n",
       "      <td>AED</td>\n",
       "      <td>100</td>\n",
       "      <td>INVOICE</td>\n",
       "      <td>339</td>\n",
       "      <td>27</td>\n",
       "      <td>11/15/2021 8:45</td>\n",
       "      <td>Goods</td>\n",
       "      <td>11/15/2021</td>\n",
       "    </tr>\n",
       "  </tbody>\n",
       "</table>\n",
       "</div>"
      ],
      "text/plain": [
       "       Customer Type Customer_Name  Customer Account No Transaction Date  \\\n",
       "47891  Related Party     ALLI Corp              53540.0       27-01-2022   \n",
       "50770      3rd Party     WHIT Corp               7557.0       18-02-2022   \n",
       "62060  Related Party     SEPH Corp               2315.0       25-03-2022   \n",
       "48216      3rd Party     AL J Corp               7504.0       10-03-2022   \n",
       "9580       3rd Party     PUIG Corp              38034.0       01-05-2021   \n",
       "\n",
       "                Payment Term    Due Date Transaction Currency Local Amount  \\\n",
       "47891  30 Days from Inv Date  26-02-2022                  USD       17,995   \n",
       "50770       60 Days from EOM  30-04-2022                  KWD        6,785   \n",
       "62060       60 Days from EOM  30-05-2022                  AED        7,271   \n",
       "48216       60 Days from EOM  30-05-2022                  KWD          381   \n",
       "9580       Immediate Payment  01-05-2021                  AED          100   \n",
       "\n",
       "      Transaction Class  AGE USD Amount INV_CREATION_DATE INVOICE_TYPE  \\\n",
       "47891           INVOICE   38      4,900   1/27/2022 14:31        Goods   \n",
       "50770           INVOICE  -25     22,232   2/18/2022 20:51        Goods   \n",
       "62060           INVOICE  -55      7,271   3/25/2022 10:03        Goods   \n",
       "48216           INVOICE  -55      1,249  03-10-2022 09:36        Goods   \n",
       "9580            INVOICE  339         27   11/15/2021 8:45        Goods   \n",
       "\n",
       "      invoice creation date  \n",
       "47891            01/27/2022  \n",
       "50770            02/18/2022  \n",
       "62060            03/25/2022  \n",
       "48216            10/03/2022  \n",
       "9580             11/15/2021  "
      ]
     },
     "execution_count": 98,
     "metadata": {},
     "output_type": "execute_result"
    }
   ],
   "source": [
    "test.sample(5)"
   ]
  },
  {
   "cell_type": "code",
   "execution_count": 99,
   "id": "602ac5df",
   "metadata": {},
   "outputs": [],
   "source": [
    "test[['invoice creation date','Due Date']] = test[['invoice creation date','Due Date']].apply(pd.to_datetime)"
   ]
  },
  {
   "cell_type": "code",
   "execution_count": 100,
   "id": "76b65822",
   "metadata": {},
   "outputs": [],
   "source": [
    "test['target'] = np.where(test['invoice creation date']>test['Due Date'], 0, 1)"
   ]
  },
  {
   "cell_type": "code",
   "execution_count": 101,
   "id": "414ffaec",
   "metadata": {},
   "outputs": [
    {
     "data": {
      "text/plain": [
       "1    64471\n",
       "0    23733\n",
       "Name: target, dtype: int64"
      ]
     },
     "execution_count": 101,
     "metadata": {},
     "output_type": "execute_result"
    }
   ],
   "source": [
    "test.target.value_counts()"
   ]
  },
  {
   "cell_type": "code",
   "execution_count": 102,
   "id": "19d8c784",
   "metadata": {},
   "outputs": [],
   "source": [
    "df['actual'] = test['target']"
   ]
  },
  {
   "cell_type": "code",
   "execution_count": 103,
   "id": "663e6162",
   "metadata": {},
   "outputs": [
    {
     "data": {
      "text/plain": [
       "Customer Type            0\n",
       "Customer_Name            0\n",
       "Customer Account No      3\n",
       "Transaction Date         0\n",
       "Payment Term             0\n",
       "Due Date                 0\n",
       "Transaction Currency     0\n",
       "Local Amount             0\n",
       "Transaction Class        0\n",
       "AGE                      0\n",
       "USD Amount               0\n",
       "INV_CREATION_DATE        0\n",
       "INVOICE_TYPE             0\n",
       "invoice creation date    0\n",
       "target                   0\n",
       "dtype: int64"
      ]
     },
     "execution_count": 103,
     "metadata": {},
     "output_type": "execute_result"
    }
   ],
   "source": [
    "test.isnull().sum()"
   ]
  },
  {
   "cell_type": "code",
   "execution_count": 104,
   "id": "1c747e13",
   "metadata": {},
   "outputs": [],
   "source": [
    "test = test.dropna()"
   ]
  },
  {
   "cell_type": "code",
   "execution_count": 105,
   "id": "04c534b6",
   "metadata": {},
   "outputs": [
    {
     "name": "stdout",
     "output_type": "stream",
     "text": [
      "<class 'pandas.core.frame.DataFrame'>\n",
      "Int64Index: 88201 entries, 0 to 88203\n",
      "Data columns (total 15 columns):\n",
      " #   Column                 Non-Null Count  Dtype         \n",
      "---  ------                 --------------  -----         \n",
      " 0   Customer Type          88201 non-null  object        \n",
      " 1   Customer_Name          88201 non-null  object        \n",
      " 2   Customer Account No    88201 non-null  float64       \n",
      " 3   Transaction Date       88201 non-null  object        \n",
      " 4   Payment Term           88201 non-null  object        \n",
      " 5   Due Date               88201 non-null  datetime64[ns]\n",
      " 6   Transaction Currency   88201 non-null  object        \n",
      " 7   Local Amount           88201 non-null  object        \n",
      " 8   Transaction Class      88201 non-null  object        \n",
      " 9   AGE                    88201 non-null  int64         \n",
      " 10  USD Amount             88201 non-null  object        \n",
      " 11  INV_CREATION_DATE      88201 non-null  object        \n",
      " 12  INVOICE_TYPE           88201 non-null  object        \n",
      " 13  invoice creation date  88201 non-null  datetime64[ns]\n",
      " 14  target                 88201 non-null  int32         \n",
      "dtypes: datetime64[ns](2), float64(1), int32(1), int64(1), object(10)\n",
      "memory usage: 10.4+ MB\n"
     ]
    }
   ],
   "source": [
    "test.info()"
   ]
  },
  {
   "cell_type": "code",
   "execution_count": 106,
   "id": "fd0140ea",
   "metadata": {},
   "outputs": [],
   "source": [
    "test['USD Amount'] = test['USD Amount'].str.replace(',', '').astype(float)"
   ]
  },
  {
   "cell_type": "code",
   "execution_count": 107,
   "id": "a8049de2",
   "metadata": {},
   "outputs": [
    {
     "data": {
      "text/plain": [
       "59469     412.0\n",
       "68383     399.0\n",
       "35189      85.0\n",
       "23326    1201.0\n",
       "54231    1997.0\n",
       "Name: USD Amount, dtype: float64"
      ]
     },
     "execution_count": 107,
     "metadata": {},
     "output_type": "execute_result"
    }
   ],
   "source": [
    "test['USD Amount'].sample(5)"
   ]
  },
  {
   "cell_type": "code",
   "execution_count": 108,
   "id": "1910a731",
   "metadata": {},
   "outputs": [],
   "source": [
    "test = test.drop(['Customer_Name','Customer Account No','Transaction Date','Due Date','Local Amount','INV_CREATION_DATE','invoice creation date','target'],axis=1)"
   ]
  },
  {
   "cell_type": "code",
   "execution_count": 104,
   "id": "9fe63653",
   "metadata": {},
   "outputs": [
    {
     "data": {
      "text/html": [
       "<div>\n",
       "<style scoped>\n",
       "    .dataframe tbody tr th:only-of-type {\n",
       "        vertical-align: middle;\n",
       "    }\n",
       "\n",
       "    .dataframe tbody tr th {\n",
       "        vertical-align: top;\n",
       "    }\n",
       "\n",
       "    .dataframe thead th {\n",
       "        text-align: right;\n",
       "    }\n",
       "</style>\n",
       "<table border=\"1\" class=\"dataframe\">\n",
       "  <thead>\n",
       "    <tr style=\"text-align: right;\">\n",
       "      <th></th>\n",
       "      <th>Customer Type</th>\n",
       "      <th>Payment Term</th>\n",
       "      <th>Transaction Currency</th>\n",
       "      <th>Transaction Class</th>\n",
       "      <th>AGE</th>\n",
       "      <th>USD Amount</th>\n",
       "      <th>INVOICE_TYPE</th>\n",
       "    </tr>\n",
       "  </thead>\n",
       "  <tbody>\n",
       "    <tr>\n",
       "      <th>0</th>\n",
       "      <td>3rd Party</td>\n",
       "      <td>Immediate</td>\n",
       "      <td>AED</td>\n",
       "      <td>CREDIT NOTE</td>\n",
       "      <td>105</td>\n",
       "      <td>-3088.0</td>\n",
       "      <td>Goods</td>\n",
       "    </tr>\n",
       "    <tr>\n",
       "      <th>1</th>\n",
       "      <td>Related Party</td>\n",
       "      <td>30 Days from Inv Date</td>\n",
       "      <td>USD</td>\n",
       "      <td>INVOICE</td>\n",
       "      <td>33</td>\n",
       "      <td>2000.0</td>\n",
       "      <td>Goods</td>\n",
       "    </tr>\n",
       "    <tr>\n",
       "      <th>2</th>\n",
       "      <td>Related Party</td>\n",
       "      <td>30 Days from Inv Date</td>\n",
       "      <td>USD</td>\n",
       "      <td>INVOICE</td>\n",
       "      <td>-18</td>\n",
       "      <td>2000.0</td>\n",
       "      <td>Goods</td>\n",
       "    </tr>\n",
       "    <tr>\n",
       "      <th>3</th>\n",
       "      <td>Related Party</td>\n",
       "      <td>15 Days from Inv Date</td>\n",
       "      <td>AED</td>\n",
       "      <td>INVOICE</td>\n",
       "      <td>76</td>\n",
       "      <td>2415.0</td>\n",
       "      <td>Goods</td>\n",
       "    </tr>\n",
       "    <tr>\n",
       "      <th>4</th>\n",
       "      <td>Related Party</td>\n",
       "      <td>30 Days from EOM</td>\n",
       "      <td>AED</td>\n",
       "      <td>INVOICE</td>\n",
       "      <td>-25</td>\n",
       "      <td>3800.0</td>\n",
       "      <td>Goods</td>\n",
       "    </tr>\n",
       "  </tbody>\n",
       "</table>\n",
       "</div>"
      ],
      "text/plain": [
       "   Customer Type           Payment Term Transaction Currency  \\\n",
       "0      3rd Party              Immediate                  AED   \n",
       "1  Related Party  30 Days from Inv Date                  USD   \n",
       "2  Related Party  30 Days from Inv Date                  USD   \n",
       "3  Related Party  15 Days from Inv Date                  AED   \n",
       "4  Related Party       30 Days from EOM                  AED   \n",
       "\n",
       "  Transaction Class  AGE  USD Amount INVOICE_TYPE  \n",
       "0       CREDIT NOTE  105     -3088.0        Goods  \n",
       "1           INVOICE   33      2000.0        Goods  \n",
       "2           INVOICE  -18      2000.0        Goods  \n",
       "3           INVOICE   76      2415.0        Goods  \n",
       "4           INVOICE  -25      3800.0        Goods  "
      ]
     },
     "execution_count": 104,
     "metadata": {},
     "output_type": "execute_result"
    }
   ],
   "source": [
    "test.head()"
   ]
  },
  {
   "cell_type": "code",
   "execution_count": 109,
   "id": "f46fd2f2",
   "metadata": {},
   "outputs": [],
   "source": [
    "test['Transaction Class'] = test['Transaction Class'].map({'CREDIT NOTE': 'CM', 'DEBIT NOTE':'DM', 'INVOICE':'INV', 'PAYMENT':'CM'})"
   ]
  },
  {
   "cell_type": "code",
   "execution_count": 106,
   "id": "200075c9",
   "metadata": {},
   "outputs": [
    {
     "name": "stdout",
     "output_type": "stream",
     "text": [
      "<class 'pandas.core.frame.DataFrame'>\n",
      "Int64Index: 88201 entries, 0 to 88203\n",
      "Data columns (total 7 columns):\n",
      " #   Column                Non-Null Count  Dtype  \n",
      "---  ------                --------------  -----  \n",
      " 0   Customer Type         88201 non-null  object \n",
      " 1   Payment Term          88201 non-null  object \n",
      " 2   Transaction Currency  88201 non-null  object \n",
      " 3   Transaction Class     88201 non-null  object \n",
      " 4   AGE                   88201 non-null  int64  \n",
      " 5   USD Amount            88201 non-null  float64\n",
      " 6   INVOICE_TYPE          88201 non-null  object \n",
      "dtypes: float64(1), int64(1), object(5)\n",
      "memory usage: 5.4+ MB\n"
     ]
    }
   ],
   "source": [
    "test.info()"
   ]
  },
  {
   "cell_type": "code",
   "execution_count": 110,
   "id": "5df8b245",
   "metadata": {},
   "outputs": [],
   "source": [
    "test = test.applymap(lambda s: s.lower() if type(s) == str else s)"
   ]
  },
  {
   "cell_type": "code",
   "execution_count": 111,
   "id": "7d4d7a8b",
   "metadata": {},
   "outputs": [],
   "source": [
    "test.columns= test.columns.str.lower()"
   ]
  },
  {
   "cell_type": "code",
   "execution_count": 112,
   "id": "d0424f21",
   "metadata": {},
   "outputs": [],
   "source": [
    "numeric_data = test.select_dtypes(include=[np.number])\n",
    "categorical_data = test.select_dtypes(exclude=[np.number])"
   ]
  },
  {
   "cell_type": "code",
   "execution_count": 113,
   "id": "1bb341f3",
   "metadata": {},
   "outputs": [
    {
     "data": {
      "text/plain": [
       "Index(['customer type', 'payment term', 'transaction currency',\n",
       "       'transaction class', 'invoice_type'],\n",
       "      dtype='object')"
      ]
     },
     "execution_count": 113,
     "metadata": {},
     "output_type": "execute_result"
    }
   ],
   "source": [
    "categorical_data.columns"
   ]
  },
  {
   "cell_type": "code",
   "execution_count": 114,
   "id": "518b4513",
   "metadata": {},
   "outputs": [],
   "source": [
    "categorical_data.rename(columns = {'payment term':'payment_term','transaction class':'invoice_class','transaction currency':'invoice_currency_code'}, inplace = True)"
   ]
  },
  {
   "cell_type": "code",
   "execution_count": 65,
   "id": "063f9988",
   "metadata": {},
   "outputs": [
    {
     "data": {
      "text/plain": [
       "Index(['customer type', 'payment_term', 'invoice_currency_code',\n",
       "       'invoice_class', 'invoice_type'],\n",
       "      dtype='object')"
      ]
     },
     "execution_count": 65,
     "metadata": {},
     "output_type": "execute_result"
    }
   ],
   "source": [
    "categorical_data.columns"
   ]
  },
  {
   "cell_type": "code",
   "execution_count": 115,
   "id": "68a11402",
   "metadata": {},
   "outputs": [],
   "source": [
    "test.rename(columns = {'payment term':'payment_term','transaction class':'invoice_class','transaction currency':'invoice_currency_code'}, inplace = True)"
   ]
  },
  {
   "cell_type": "code",
   "execution_count": 116,
   "id": "6488800c",
   "metadata": {},
   "outputs": [],
   "source": [
    "encoded_cols = pd.get_dummies(test[categorical_data.columns], drop_first=True)"
   ]
  },
  {
   "cell_type": "code",
   "execution_count": 117,
   "id": "9a29e7c0",
   "metadata": {},
   "outputs": [
    {
     "data": {
      "text/plain": [
       "Index(['age', 'usd amount'], dtype='object')"
      ]
     },
     "execution_count": 117,
     "metadata": {},
     "output_type": "execute_result"
    }
   ],
   "source": [
    "numeric_data.columns"
   ]
  },
  {
   "cell_type": "code",
   "execution_count": 118,
   "id": "e3a5b63f",
   "metadata": {},
   "outputs": [],
   "source": [
    "numeric_data.rename(columns = {'usd amount':'cbrt_usd_amount'}, inplace=True)"
   ]
  },
  {
   "cell_type": "code",
   "execution_count": 119,
   "id": "ee3bd63b",
   "metadata": {},
   "outputs": [
    {
     "data": {
      "text/plain": [
       "Index(['age', 'cbrt_usd_amount'], dtype='object')"
      ]
     },
     "execution_count": 119,
     "metadata": {},
     "output_type": "execute_result"
    }
   ],
   "source": [
    "numeric_data.columns"
   ]
  },
  {
   "cell_type": "code",
   "execution_count": 120,
   "id": "583731e6",
   "metadata": {},
   "outputs": [],
   "source": [
    "test_data = pd.concat([numeric_data,encoded_cols], axis=1)"
   ]
  },
  {
   "cell_type": "code",
   "execution_count": 121,
   "id": "2a08d1d8",
   "metadata": {},
   "outputs": [
    {
     "data": {
      "text/plain": [
       "(88201, 62)"
      ]
     },
     "execution_count": 121,
     "metadata": {},
     "output_type": "execute_result"
    }
   ],
   "source": [
    "test_data.shape"
   ]
  },
  {
   "cell_type": "code",
   "execution_count": 122,
   "id": "a6ce2632",
   "metadata": {},
   "outputs": [],
   "source": [
    "unseen = test_data[['age',\n",
    "       'payment_term_50% advance payment and 50% upon receiving the shipment',\n",
    "       'payment_term_eom', 'payment_term_lcsight',\n",
    "       'payment_term_on consignment', 'invoice_currency_code_eur',\n",
    "       'invoice_currency_code_gbp', 'invoice_currency_code_kwd',\n",
    "       'invoice_currency_code_qar', 'invoice_type_non goods']]"
   ]
  },
  {
   "cell_type": "code",
   "execution_count": 123,
   "id": "1a6ba65b",
   "metadata": {},
   "outputs": [],
   "source": [
    "X_Predict = lreg_smt_tmk.predict(unseen)"
   ]
  },
  {
   "cell_type": "code",
   "execution_count": 124,
   "id": "11ac9b99",
   "metadata": {},
   "outputs": [
    {
     "data": {
      "text/plain": [
       "array([42.46124315])"
      ]
     },
     "execution_count": 124,
     "metadata": {},
     "output_type": "execute_result"
    }
   ],
   "source": [
    "lreg_smt_tmk.intercept_"
   ]
  },
  {
   "cell_type": "code",
   "execution_count": 125,
   "id": "db3db810",
   "metadata": {},
   "outputs": [
    {
     "data": {
      "text/plain": [
       "array([[-61.11088477,   1.49891322,   1.31848232,   2.63295129,\n",
       "          2.13238477,   3.1916198 ,   4.02305207,   1.60933503,\n",
       "          1.55885151,  -1.97836516]])"
      ]
     },
     "execution_count": 125,
     "metadata": {},
     "output_type": "execute_result"
    }
   ],
   "source": [
    "lreg_smt_tmk.coef_"
   ]
  },
  {
   "cell_type": "code",
   "execution_count": 126,
   "id": "62f927c1",
   "metadata": {},
   "outputs": [
    {
     "data": {
      "text/plain": [
       "array([[1., 0.],\n",
       "       [1., 0.],\n",
       "       [0., 1.],\n",
       "       ...,\n",
       "       [1., 0.],\n",
       "       [1., 0.],\n",
       "       [1., 0.]])"
      ]
     },
     "execution_count": 126,
     "metadata": {},
     "output_type": "execute_result"
    }
   ],
   "source": [
    "lreg_smt_tmk.predict_proba(unseen)"
   ]
  },
  {
   "cell_type": "code",
   "execution_count": 127,
   "id": "a528042b",
   "metadata": {},
   "outputs": [],
   "source": [
    "result=pd.DataFrame(data=X_Predict, index=unseen.index, columns=['score'])"
   ]
  },
  {
   "cell_type": "code",
   "execution_count": 128,
   "id": "511f7815",
   "metadata": {},
   "outputs": [
    {
     "data": {
      "text/html": [
       "<div>\n",
       "<style scoped>\n",
       "    .dataframe tbody tr th:only-of-type {\n",
       "        vertical-align: middle;\n",
       "    }\n",
       "\n",
       "    .dataframe tbody tr th {\n",
       "        vertical-align: top;\n",
       "    }\n",
       "\n",
       "    .dataframe thead th {\n",
       "        text-align: right;\n",
       "    }\n",
       "</style>\n",
       "<table border=\"1\" class=\"dataframe\">\n",
       "  <thead>\n",
       "    <tr style=\"text-align: right;\">\n",
       "      <th></th>\n",
       "      <th>score</th>\n",
       "    </tr>\n",
       "  </thead>\n",
       "  <tbody>\n",
       "    <tr>\n",
       "      <th>0</th>\n",
       "      <td>0</td>\n",
       "    </tr>\n",
       "    <tr>\n",
       "      <th>1</th>\n",
       "      <td>0</td>\n",
       "    </tr>\n",
       "    <tr>\n",
       "      <th>2</th>\n",
       "      <td>1</td>\n",
       "    </tr>\n",
       "    <tr>\n",
       "      <th>3</th>\n",
       "      <td>0</td>\n",
       "    </tr>\n",
       "    <tr>\n",
       "      <th>4</th>\n",
       "      <td>1</td>\n",
       "    </tr>\n",
       "  </tbody>\n",
       "</table>\n",
       "</div>"
      ],
      "text/plain": [
       "   score\n",
       "0      0\n",
       "1      0\n",
       "2      1\n",
       "3      0\n",
       "4      1"
      ]
     },
     "execution_count": 128,
     "metadata": {},
     "output_type": "execute_result"
    }
   ],
   "source": [
    "result.head(5)"
   ]
  },
  {
   "cell_type": "code",
   "execution_count": 130,
   "id": "940e1677",
   "metadata": {},
   "outputs": [],
   "source": [
    "result['predicted_probabilities'] = lreg_smt_tmk.predict_proba(unseen)[:,1]"
   ]
  },
  {
   "cell_type": "code",
   "execution_count": 131,
   "id": "5689e2e6",
   "metadata": {},
   "outputs": [],
   "source": [
    "result['is_delayed'] = np.where(result['predicted_probabilities'] >= 0.7,\"yes\",\"no\")"
   ]
  },
  {
   "cell_type": "code",
   "execution_count": 132,
   "id": "3b37f9ed",
   "metadata": {},
   "outputs": [],
   "source": [
    "result['Cust id'] = df['Customer No.']\n",
    "result['Cust id'] = result['Cust id'].astype('str').str.replace(r\".0\", r\"\", regex=False)"
   ]
  },
  {
   "cell_type": "code",
   "execution_count": 133,
   "id": "add5be45",
   "metadata": {},
   "outputs": [],
   "source": [
    "result['actual'] = df['actual']"
   ]
  },
  {
   "cell_type": "code",
   "execution_count": 134,
   "id": "29754826",
   "metadata": {},
   "outputs": [],
   "source": [
    "result.rename(columns = {'score':'predicted'}, inplace=True)"
   ]
  },
  {
   "cell_type": "code",
   "execution_count": 135,
   "id": "c45a653e",
   "metadata": {},
   "outputs": [],
   "source": [
    "expected_result = result[['Cust id','actual','predicted','is_delayed']]"
   ]
  },
  {
   "cell_type": "code",
   "execution_count": 136,
   "id": "7959c433",
   "metadata": {},
   "outputs": [
    {
     "data": {
      "text/html": [
       "<div>\n",
       "<style scoped>\n",
       "    .dataframe tbody tr th:only-of-type {\n",
       "        vertical-align: middle;\n",
       "    }\n",
       "\n",
       "    .dataframe tbody tr th {\n",
       "        vertical-align: top;\n",
       "    }\n",
       "\n",
       "    .dataframe thead th {\n",
       "        text-align: right;\n",
       "    }\n",
       "</style>\n",
       "<table border=\"1\" class=\"dataframe\">\n",
       "  <thead>\n",
       "    <tr style=\"text-align: right;\">\n",
       "      <th></th>\n",
       "      <th>Cust id</th>\n",
       "      <th>actual</th>\n",
       "      <th>predicted</th>\n",
       "      <th>is_delayed</th>\n",
       "    </tr>\n",
       "  </thead>\n",
       "  <tbody>\n",
       "    <tr>\n",
       "      <th>67288</th>\n",
       "      <td>34647</td>\n",
       "      <td>1</td>\n",
       "      <td>1</td>\n",
       "      <td>yes</td>\n",
       "    </tr>\n",
       "    <tr>\n",
       "      <th>60971</th>\n",
       "      <td>7530</td>\n",
       "      <td>1</td>\n",
       "      <td>1</td>\n",
       "      <td>yes</td>\n",
       "    </tr>\n",
       "    <tr>\n",
       "      <th>53170</th>\n",
       "      <td>7588</td>\n",
       "      <td>1</td>\n",
       "      <td>0</td>\n",
       "      <td>no</td>\n",
       "    </tr>\n",
       "    <tr>\n",
       "      <th>39162</th>\n",
       "      <td>45720</td>\n",
       "      <td>0</td>\n",
       "      <td>0</td>\n",
       "      <td>no</td>\n",
       "    </tr>\n",
       "    <tr>\n",
       "      <th>15138</th>\n",
       "      <td>2624</td>\n",
       "      <td>1</td>\n",
       "      <td>0</td>\n",
       "      <td>no</td>\n",
       "    </tr>\n",
       "    <tr>\n",
       "      <th>20187</th>\n",
       "      <td>20844</td>\n",
       "      <td>1</td>\n",
       "      <td>1</td>\n",
       "      <td>yes</td>\n",
       "    </tr>\n",
       "    <tr>\n",
       "      <th>59331</th>\n",
       "      <td>3997</td>\n",
       "      <td>0</td>\n",
       "      <td>1</td>\n",
       "      <td>yes</td>\n",
       "    </tr>\n",
       "    <tr>\n",
       "      <th>30267</th>\n",
       "      <td>34876</td>\n",
       "      <td>1</td>\n",
       "      <td>0</td>\n",
       "      <td>no</td>\n",
       "    </tr>\n",
       "    <tr>\n",
       "      <th>37858</th>\n",
       "      <td>45720</td>\n",
       "      <td>1</td>\n",
       "      <td>0</td>\n",
       "      <td>no</td>\n",
       "    </tr>\n",
       "    <tr>\n",
       "      <th>7244</th>\n",
       "      <td>3927</td>\n",
       "      <td>1</td>\n",
       "      <td>0</td>\n",
       "      <td>no</td>\n",
       "    </tr>\n",
       "  </tbody>\n",
       "</table>\n",
       "</div>"
      ],
      "text/plain": [
       "      Cust id  actual  predicted is_delayed\n",
       "67288   34647       1          1        yes\n",
       "60971    7530       1          1        yes\n",
       "53170    7588       1          0         no\n",
       "39162   45720       0          0         no\n",
       "15138    2624       1          0         no\n",
       "20187   20844       1          1        yes\n",
       "59331    3997       0          1        yes\n",
       "30267   34876       1          0         no\n",
       "37858   45720       1          0         no\n",
       "7244     3927       1          0         no"
      ]
     },
     "execution_count": 136,
     "metadata": {},
     "output_type": "execute_result"
    }
   ],
   "source": [
    "expected_result.sample(10)"
   ]
  },
  {
   "cell_type": "markdown",
   "id": "8d99ec1d",
   "metadata": {},
   "source": [
    "The above summary table ensures that the probability of late payment is aggregated at a customer level.\n",
    "For example, we can see for customer id 20187, we predicted that the customer will be delayed with more than 70% probabilities."
   ]
  },
  {
   "cell_type": "code",
   "execution_count": 137,
   "id": "5ab29383",
   "metadata": {},
   "outputs": [
    {
     "data": {
      "text/html": [
       "<div>\n",
       "<style scoped>\n",
       "    .dataframe tbody tr th:only-of-type {\n",
       "        vertical-align: middle;\n",
       "    }\n",
       "\n",
       "    .dataframe tbody tr th {\n",
       "        vertical-align: top;\n",
       "    }\n",
       "\n",
       "    .dataframe thead th {\n",
       "        text-align: right;\n",
       "    }\n",
       "</style>\n",
       "<table border=\"1\" class=\"dataframe\">\n",
       "  <thead>\n",
       "    <tr style=\"text-align: right;\">\n",
       "      <th></th>\n",
       "      <th>Cust id</th>\n",
       "      <th>actual</th>\n",
       "      <th>predicted</th>\n",
       "      <th>is_delayed</th>\n",
       "    </tr>\n",
       "  </thead>\n",
       "  <tbody>\n",
       "    <tr>\n",
       "      <th>2</th>\n",
       "      <td>23152</td>\n",
       "      <td>1</td>\n",
       "      <td>1</td>\n",
       "      <td>yes</td>\n",
       "    </tr>\n",
       "    <tr>\n",
       "      <th>4</th>\n",
       "      <td>7530</td>\n",
       "      <td>1</td>\n",
       "      <td>1</td>\n",
       "      <td>yes</td>\n",
       "    </tr>\n",
       "    <tr>\n",
       "      <th>5</th>\n",
       "      <td>7530</td>\n",
       "      <td>1</td>\n",
       "      <td>1</td>\n",
       "      <td>yes</td>\n",
       "    </tr>\n",
       "    <tr>\n",
       "      <th>6</th>\n",
       "      <td>7530</td>\n",
       "      <td>1</td>\n",
       "      <td>1</td>\n",
       "      <td>yes</td>\n",
       "    </tr>\n",
       "    <tr>\n",
       "      <th>7</th>\n",
       "      <td>7530</td>\n",
       "      <td>1</td>\n",
       "      <td>1</td>\n",
       "      <td>yes</td>\n",
       "    </tr>\n",
       "    <tr>\n",
       "      <th>...</th>\n",
       "      <td>...</td>\n",
       "      <td>...</td>\n",
       "      <td>...</td>\n",
       "      <td>...</td>\n",
       "    </tr>\n",
       "    <tr>\n",
       "      <th>88172</th>\n",
       "      <td>20867</td>\n",
       "      <td>1</td>\n",
       "      <td>1</td>\n",
       "      <td>yes</td>\n",
       "    </tr>\n",
       "    <tr>\n",
       "      <th>88186</th>\n",
       "      <td>23136</td>\n",
       "      <td>0</td>\n",
       "      <td>1</td>\n",
       "      <td>yes</td>\n",
       "    </tr>\n",
       "    <tr>\n",
       "      <th>88187</th>\n",
       "      <td>23136</td>\n",
       "      <td>1</td>\n",
       "      <td>1</td>\n",
       "      <td>yes</td>\n",
       "    </tr>\n",
       "    <tr>\n",
       "      <th>88188</th>\n",
       "      <td>23136</td>\n",
       "      <td>1</td>\n",
       "      <td>1</td>\n",
       "      <td>yes</td>\n",
       "    </tr>\n",
       "    <tr>\n",
       "      <th>88189</th>\n",
       "      <td>23136</td>\n",
       "      <td>1</td>\n",
       "      <td>1</td>\n",
       "      <td>yes</td>\n",
       "    </tr>\n",
       "  </tbody>\n",
       "</table>\n",
       "<p>28287 rows × 4 columns</p>\n",
       "</div>"
      ],
      "text/plain": [
       "      Cust id  actual  predicted is_delayed\n",
       "2       23152       1          1        yes\n",
       "4        7530       1          1        yes\n",
       "5        7530       1          1        yes\n",
       "6        7530       1          1        yes\n",
       "7        7530       1          1        yes\n",
       "...       ...     ...        ...        ...\n",
       "88172   20867       1          1        yes\n",
       "88186   23136       0          1        yes\n",
       "88187   23136       1          1        yes\n",
       "88188   23136       1          1        yes\n",
       "88189   23136       1          1        yes\n",
       "\n",
       "[28287 rows x 4 columns]"
      ]
     },
     "execution_count": 137,
     "metadata": {},
     "output_type": "execute_result"
    }
   ],
   "source": [
    "expected_result[expected_result['is_delayed']==\"yes\"]"
   ]
  },
  {
   "cell_type": "markdown",
   "id": "18501dfd",
   "metadata": {},
   "source": [
    "Finally, we can see that there are 28287 customers out of 88201 unseen records are predicted as delayed customers."
   ]
  },
  {
   "cell_type": "markdown",
   "id": "390befdf",
   "metadata": {},
   "source": [
    "**Top 10 factors / important predictors**"
   ]
  },
  {
   "cell_type": "markdown",
   "id": "f314774c",
   "metadata": {},
   "source": [
    "age\n",
    "payment_term_50% advance payment and 50% upon receiving the shipment\n",
    "payment_term_eom\n",
    "payment_term_lcsight\n",
    "payment_term_on consignment\n",
    "invoice_currency_code_eur\n",
    "invoice_currency_code_gbp\n",
    "invoice_currency_code_kwd\n",
    "invoice_currency_code_qar\n",
    "invoice_type_non goods"
   ]
  },
  {
   "cell_type": "markdown",
   "id": "6530787d",
   "metadata": {},
   "source": [
    "**Recommendations**"
   ]
  },
  {
   "cell_type": "markdown",
   "id": "ef650160",
   "metadata": {},
   "source": [
    "1. We should focus more on the time difference between Due Date and Invoice Payment Date\n",
    "2. Payment terms: 50% advance payment and 50% upon receiving the shipment, eom, lcsight and on consignment variables need to be considered with greater attention.\n",
    "3. Where the invoice currency codes are eur, gbp, kwd and qar, the risk is higher of delay payment.\n",
    "4. Invoice type non-goods has lower impact than Goods invoice type in delayed payment."
   ]
  },
  {
   "cell_type": "markdown",
   "id": "1af8a621",
   "metadata": {},
   "source": [
    "***Thank you!!!***"
   ]
  }
 ],
 "metadata": {
  "kernelspec": {
   "display_name": "Python 3 (ipykernel)",
   "language": "python",
   "name": "python3"
  },
  "language_info": {
   "codemirror_mode": {
    "name": "ipython",
    "version": 3
   },
   "file_extension": ".py",
   "mimetype": "text/x-python",
   "name": "python",
   "nbconvert_exporter": "python",
   "pygments_lexer": "ipython3",
   "version": "3.9.12"
  }
 },
 "nbformat": 4,
 "nbformat_minor": 5
}
